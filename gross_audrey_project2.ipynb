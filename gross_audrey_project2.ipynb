{
 "cells": [
  {
   "cell_type": "markdown",
   "id": "4eacdf9b-5608-4127-8afa-db7a98dbb21a",
   "metadata": {},
   "source": [
    "# Newton's Cannonball Thought Experiment"
   ]
  },
  {
   "cell_type": "code",
   "execution_count": 106,
   "id": "a338d1c8-f4f5-4b0a-97bf-9fc758b4fe03",
   "metadata": {},
   "outputs": [],
   "source": [
    "from vpython import *\n",
    "import math\n",
    "import timeit"
   ]
  },
  {
   "cell_type": "code",
   "execution_count": 107,
   "id": "f667f7d3-68c4-48d6-b9a1-e27df099b400",
   "metadata": {},
   "outputs": [],
   "source": [
    "#radius in meters\n",
    "# mass in kg\n",
    "\n",
    "G = 6.674e-11 #m^3*kg^-1*s^-2\n",
    "earthRadius = 6.357e6\n",
    "earthMass = 5.9722e24\n",
    "launchHeight = earthRadius+9000e2 #similar to mt everest *100"
   ]
  },
  {
   "cell_type": "code",
   "execution_count": 108,
   "id": "19832b9d-a784-4e01-a46d-a9c3600b8201",
   "metadata": {},
   "outputs": [],
   "source": [
    "def cannonballExperiment(speed):\n",
    "    scene = canvas()\n",
    "    starttime = timeit.default_timer()\n",
    "    earth = sphere(pos=vector(0,0,0), radius=earthRadius, color=color.green, make_trail = True, opacity=0.3)\n",
    "    ball = sphere(pos=vector(0,launchHeight,0), radius=300000, color=color.red, make_trail = True)\n",
    "    mountain = box(pos=vector(0,(earthRadius+4000e2),0), size=vector(1000000,9000e2,10000), color=color.yellow)\n",
    "\n",
    "    seconds = 0\n",
    "    v0 = speed #initial speed chosen by simulation\n",
    "    g = 9.8  #m/s^2\n",
    "    dt = 0.01 \n",
    "    angle = 0 # ball shot horizontally, always 0\n",
    "    theta = angle*(3.1415926/180) #angle from degrees to radians\n",
    "    velocity = vector(v0*cos(theta),v0*sin(theta),0)\n",
    "    pos = ball.pos\n",
    "\n",
    "    vorbital = math.sqrt(G*earthMass/launchHeight)\n",
    "    vescape = math.sqrt(2*G*earthMass/launchHeight)\n",
    "\n",
    "    while True:\n",
    "        rate(50000)  # 50000 times per second\n",
    "        seconds += 1\n",
    "    \n",
    "        # magnitude position vector\n",
    "        distance = mag(ball.pos)\n",
    "        if distance <= earthRadius:\n",
    "            break  # Stop if the cannonball hits the Earth\n",
    "\n",
    "        force_magnitude = G * earthMass / distance**2\n",
    "        force_direction = -pos.norm()  # Unit vector toward Earth's center\n",
    "        acceleration = force_magnitude * force_direction\n",
    "    \n",
    "        # Update velocity and position\n",
    "        velocity += acceleration * dt\n",
    "        pos += velocity * dt\n",
    "    \n",
    "        # Update cannonball position in the simulation\n",
    "        ball.pos = pos\n",
    "\n",
    "        # if running for around minute break\n",
    "        if (seconds/50000) >= 50:\n",
    "            break\n",
    "\n",
    "    print(\"Simulation Time: \", timeit.default_timer() - starttime)\n"
   ]
  },
  {
   "cell_type": "code",
   "execution_count": 109,
   "id": "b294c791-8ab0-4fb4-aa84-1a8d685e5f3c",
   "metadata": {},
   "outputs": [
    {
     "data": {
      "text/html": [
       "<div id=\"glowscript\" class=\"glowscript\"></div>"
      ],
      "text/plain": [
       "<IPython.core.display.HTML object>"
      ]
     },
     "metadata": {},
     "output_type": "display_data"
    },
    {
     "data": {
      "application/javascript": [
       "if (typeof Jupyter !== \"undefined\") { window.__context = { glowscript_container: $(\"#glowscript\").removeAttr(\"id\")};}else{ element.textContent = ' ';}"
      ],
      "text/plain": [
       "<IPython.core.display.Javascript object>"
      ]
     },
     "metadata": {},
     "output_type": "display_data"
    },
    {
     "name": "stdout",
     "output_type": "stream",
     "text": [
      "Simulation Time:  53.981992200016975\n"
     ]
    },
    {
     "data": {
      "text/html": [
       "<div id=\"glowscript\" class=\"glowscript\"></div>"
      ],
      "text/plain": [
       "<IPython.core.display.HTML object>"
      ]
     },
     "metadata": {},
     "output_type": "display_data"
    },
    {
     "data": {
      "application/javascript": [
       "if (typeof Jupyter !== \"undefined\") { window.__context = { glowscript_container: $(\"#glowscript\").removeAttr(\"id\")};}else{ element.textContent = ' ';}"
      ],
      "text/plain": [
       "<IPython.core.display.Javascript object>"
      ]
     },
     "metadata": {},
     "output_type": "display_data"
    },
    {
     "name": "stdout",
     "output_type": "stream",
     "text": [
      "Simulation Time:  54.19640730007086\n"
     ]
    },
    {
     "data": {
      "text/html": [
       "<div id=\"glowscript\" class=\"glowscript\"></div>"
      ],
      "text/plain": [
       "<IPython.core.display.HTML object>"
      ]
     },
     "metadata": {},
     "output_type": "display_data"
    },
    {
     "data": {
      "application/javascript": [
       "if (typeof Jupyter !== \"undefined\") { window.__context = { glowscript_container: $(\"#glowscript\").removeAttr(\"id\")};}else{ element.textContent = ' ';}"
      ],
      "text/plain": [
       "<IPython.core.display.Javascript object>"
      ]
     },
     "metadata": {},
     "output_type": "display_data"
    },
    {
     "name": "stdout",
     "output_type": "stream",
     "text": [
      "Simulation Time:  1.2373304999200627\n"
     ]
    },
    {
     "data": {
      "text/html": [
       "<div id=\"glowscript\" class=\"glowscript\"></div>"
      ],
      "text/plain": [
       "<IPython.core.display.HTML object>"
      ]
     },
     "metadata": {},
     "output_type": "display_data"
    },
    {
     "data": {
      "application/javascript": [
       "if (typeof Jupyter !== \"undefined\") { window.__context = { glowscript_container: $(\"#glowscript\").removeAttr(\"id\")};}else{ element.textContent = ' ';}"
      ],
      "text/plain": [
       "<IPython.core.display.Javascript object>"
      ]
     },
     "metadata": {},
     "output_type": "display_data"
    },
    {
     "name": "stdout",
     "output_type": "stream",
     "text": [
      "Simulation Time:  55.49651709990576\n"
     ]
    }
   ],
   "source": [
    "orbitalspeed = cannonballExperiment(7411.08) #remain in orbit\n",
    "higherspeed = cannonballExperiment(9000) # parabola orbit\n",
    "cannonfall = cannonballExperiment(4000) # fall to earth\n",
    "exitfield = cannonballExperiment(11000) # exit gravitational field "
   ]
  },
  {
   "cell_type": "markdown",
   "id": "9d2c68f8-eacb-40af-b136-88ded42e6834",
   "metadata": {},
   "source": [
    "## Results"
   ]
  },
  {
   "cell_type": "markdown",
   "id": "d0049faa-53c0-44c3-9aa1-29c1ea9d8e89",
   "metadata": {},
   "source": [
    "The orbital speed equation is sqrt(G*M/h) where G is the gravitational constant, M is the mass of the earth, and h is the height at which the cannon was launched. It is assumed that the cannon is launched directly horizontally, or 0 degrees. \n",
    "\n",
    "Using the orbital speed equation we get 7411.08 meters per second. So when the cannon is launched with this velocity, it should perfectly orbit around the earth. This is visible in the above simulation.\n",
    "\n",
    "Any velocity below 7411.08 meters per second will result in the cannon falling to earth. Any speed above will result in the orbit forming a parabola shape.\n",
    "\n",
    "Lastly, the escape velocity equation is sqrt(2G*M/d) where G is the gravitational constant, M is the mass of the earth, and d is the distance between the object and the center of the earth. Using the equation, we get that the escape velocity is 10480.85 meters per second. At this velocity or higher, the cannon will continue in a straight line and not orbit around the earth as it escapes the earth's gravitational pull."
   ]
  },
  {
   "cell_type": "markdown",
   "id": "e709a134-ef7f-441f-867d-270287161097",
   "metadata": {},
   "source": [
    "### Assumptions"
   ]
  },
  {
   "cell_type": "markdown",
   "id": "9419da08-5330-4be6-aed6-9239365dbb9c",
   "metadata": {},
   "source": [
    "Earth: https://en.wikipedia.org/wiki/Earth_radius, \n",
    "https://en.wikipedia.org/wiki/Earth_mass, https://en.wikipedia.org/wiki/Gravitational_constant\n",
    "\n",
    "Newtons Cannonball: https://noragulfa.com/cannon/, https://www.eg.bucknell.edu/physics/astronomy/astr101/specials/newtscannon.html, https://en.wikipedia.org/wiki/Orbital_speed, https://en.wikipedia.org/wiki/Escape_velocity"
   ]
  },
  {
   "cell_type": "markdown",
   "id": "aa8e58c0-c182-45c9-bb8d-c1983b52dc0d",
   "metadata": {},
   "source": [
    "# Solar System Simulation"
   ]
  },
  {
   "cell_type": "markdown",
   "id": "b1cec7eb-5e8c-4ea6-9eab-f350781b4766",
   "metadata": {},
   "source": [
    "#### Sun, Mercury, Venus, Earth, and Mars"
   ]
  },
  {
   "cell_type": "code",
   "execution_count": 117,
   "id": "4d4fab98-49bf-4b47-8a9f-b77b32880f27",
   "metadata": {
    "scrolled": true
   },
   "outputs": [],
   "source": [
    "from vpython import *\n",
    "import math\n",
    "import timeit"
   ]
  },
  {
   "cell_type": "code",
   "execution_count": 118,
   "id": "44ad59a7-23c2-4a26-933a-e8340f5e8d1e",
   "metadata": {},
   "outputs": [],
   "source": [
    "# radii in meters\n",
    "# mass in kg\n",
    "# dist from sun in meters\n",
    "\n",
    "dt = 3600\n",
    "G = 6.674e-11 #m^3*kg^-1*s^-2\n",
    "earthRadius = 6371e3\n",
    "earthMass = 5.97219e24\n",
    "distfromsunearth = 149.6e9\n",
    "\n",
    "sunRadius = 695700e3\n",
    "sunMass = 1988410e24\n",
    "\n",
    "mercuryRadius = 2.4394e3\n",
    "mercuryMass = 3.302e23\n",
    "distfromsunmercury = 57.9e9\n",
    "\n",
    "venusRadius = 6051.8e3\n",
    "venusMass = 48.68e23\n",
    "distfromsunvenus = 108.2e9\n",
    "\n",
    "marsRadius = 3389.9e3\n",
    "marsMass =  6.4171e23\n",
    "distfromsunmars = 228e9"
   ]
  },
  {
   "cell_type": "code",
   "execution_count": 119,
   "id": "6bc33681-a6a7-4446-b75a-557c8ddca2cd",
   "metadata": {},
   "outputs": [],
   "source": [
    "def SolarSystem():\n",
    "    scene = canvas()\n",
    "    sun = sphere(pos=vector(0,0,0), radius=sunRadius, color=color.yellow, make_trail = True)\n",
    "    earth = sphere(pos=vector(distfromsunearth,0,0), radius=earthRadius, color=color.green, make_trail = True)\n",
    "    earth.v = vector(0, 29.79e3, 0)  \n",
    "\n",
    "    mercury = sphere(pos=vector(distfromsunmercury,0,0), radius=mercuryRadius, color=color.white, make_trail = True)\n",
    "    mercury.v = vector(0, 47.362e3, 0) \n",
    "    \n",
    "    venus = sphere(pos=vector(distfromsunvenus,0,0), radius=venusRadius, color=color.orange, make_trail = True)\n",
    "    venus.v = vector(0, 35.021e3, 0)  \n",
    "    \n",
    "    mars = sphere(pos=vector(distfromsunmars,0,0), radius=marsRadius, color=color.red, make_trail = True)\n",
    "    mars.v = vector(0, 24.13e3, 0) \n",
    "\n",
    "    planets = [earth, mercury, venus, mars]\n",
    "    iterations = 0\n",
    "\n",
    "    while True:\n",
    "        rate(1000)  # 1000 times per second\n",
    "        for p in planets:\n",
    "            p.a = -G*sunMass*norm(p.pos)/mag(p.pos)**2 #gravitational acceleration\n",
    "            p.v = p.v + p.a*dt\n",
    "            p.pos = p.pos + p.v*dt\n",
    "        iterations = iterations + 1\n",
    "\n",
    "        # end if gone on too long\n",
    "        if iterations/1000 == 20:\n",
    "            break\n"
   ]
  },
  {
   "cell_type": "code",
   "execution_count": 120,
   "id": "8ed6ed68-6288-49e4-b3ac-7879256758f6",
   "metadata": {},
   "outputs": [
    {
     "data": {
      "text/html": [
       "<div id=\"glowscript\" class=\"glowscript\"></div>"
      ],
      "text/plain": [
       "<IPython.core.display.HTML object>"
      ]
     },
     "metadata": {},
     "output_type": "display_data"
    },
    {
     "data": {
      "application/javascript": [
       "if (typeof Jupyter !== \"undefined\") { window.__context = { glowscript_container: $(\"#glowscript\").removeAttr(\"id\")};}else{ element.textContent = ' ';}"
      ],
      "text/plain": [
       "<IPython.core.display.Javascript object>"
      ]
     },
     "metadata": {},
     "output_type": "display_data"
    }
   ],
   "source": [
    "x = SolarSystem()"
   ]
  },
  {
   "cell_type": "markdown",
   "id": "d670da8f-87fb-4148-9396-51a8a1f19e44",
   "metadata": {},
   "source": [
    "## Results"
   ]
  },
  {
   "cell_type": "markdown",
   "id": "f39f8edf-ffc2-4be1-85ed-372e0de5c82c",
   "metadata": {},
   "source": [
    "The equations for updating velocity and position are the same as before. To calculate acceleration, I used the gravitational acceleration equation which is G*M*r/r^2 where G is the gravitational constant, M is the mass of the sun, and r is the direction of the gravitational force. Each planet's velocity was taken as a real value from NASA JPL. \n",
    "\n",
    "The planets are each made of sphere objects, each being designated a color. The sun object has no velocity. In this simulation, the sun stays still as the planets orbit around it. Each planet is using its orbital speed. The sun is positioned at 0,0,0 and the planets differ in distance by the x coordinate.\n",
    "\n",
    "The simulation uses a dt of 3600 and a rate of 1000. This means that the simulation progresses 3600 seconds ~ 1 hour for each iteration. The simulation does 1000 iterations per second. Therefore, each second the simulation updates with ~41 days of orbit."
   ]
  },
  {
   "cell_type": "markdown",
   "id": "ee3ff017-ec4c-4b4c-bc10-7e896670eff3",
   "metadata": {},
   "source": [
    "#### Verification"
   ]
  },
  {
   "cell_type": "markdown",
   "id": "b1233b4e-689e-4162-bdb4-deeafc3083a4",
   "metadata": {},
   "source": [
    "To test the accuracy of the simulation, I experimented with the time values. A full orbit around the sun for Earth is 365 days. Therefore when simulating 365 days, the Earth should make a full 360 orbit around the sun. I used a dt of 7885 and a rate of 1000. In each iteration, the simulation progresses 7885 seconds. With a rate of 1000 per second, each second the iteration progresses at 7885000 seconds ~ 91 days. Four iterations would be 31540000 seconds ~ 365 days. Having the simulation break at 4 iterations shows the Earth doing one full orbit around the sun.\n",
    "\n",
    "The same logic can be applied to Mercury. Mercury takes 88 days to orbit around the sun. Using a dt of 1900.75 that means that 1900.75*1000 = 1900750 seconds ~ 21 days, 4 iterations would be 7603000 seconds ~ 88 days."
   ]
  },
  {
   "cell_type": "code",
   "execution_count": 121,
   "id": "0fe7c637-dd01-4e9f-99f7-3810d8a047c6",
   "metadata": {},
   "outputs": [],
   "source": [
    "def SolarSystemTimeExample(planet):\n",
    "    scene = canvas()\n",
    "    sun = sphere(pos=vector(0,0,0), radius=sunRadius, color=color.yellow, make_trail = True)\n",
    "    earth = sphere(pos=vector(distfromsunearth,0,0), radius=earthRadius, color=color.green, make_trail = True)\n",
    "    earth.v = vector(0, 29.79e3, 0)  \n",
    "\n",
    "    mercury = sphere(pos=vector(distfromsunmercury,0,0), radius=mercuryRadius, color=color.white, make_trail = True)\n",
    "    mercury.v = vector(0, 47.362e3, 0) \n",
    "    \n",
    "    venus = sphere(pos=vector(distfromsunvenus,0,0), radius=venusRadius, color=color.orange, make_trail = True)\n",
    "    venus.v = vector(0, 35.021e3, 0)  # Circular orbit\n",
    "    \n",
    "    mars = sphere(pos=vector(distfromsunmars,0,0), radius=marsRadius, color=color.red, make_trail = True)\n",
    "    mars.v = vector(0, 24.13e3, 0)  # Circular orbit\n",
    "\n",
    "    planets = [earth, mercury, venus, mars]\n",
    "    iterations = 0\n",
    "\n",
    "    while True:\n",
    "        rate(1000)  # 1000 times per second\n",
    "        if planet == \"Earth\":\n",
    "            dt = 7885\n",
    "        elif planet == \"Mercury\":\n",
    "            dt = 1900.75\n",
    "        for p in planets:\n",
    "            p.a = -G*sunMass*norm(p.pos)/mag(p.pos)**2 #gravitational acceleration\n",
    "            p.v = p.v + p.a*dt\n",
    "            p.pos = p.pos + p.v*dt\n",
    "        iterations = iterations + 1\n",
    "        if iterations/1000 == 4:\n",
    "            break\n",
    "            "
   ]
  },
  {
   "cell_type": "code",
   "execution_count": 122,
   "id": "e4eb0185-3198-436e-b765-84f4f3374fbb",
   "metadata": {},
   "outputs": [
    {
     "data": {
      "text/html": [
       "<div id=\"glowscript\" class=\"glowscript\"></div>"
      ],
      "text/plain": [
       "<IPython.core.display.HTML object>"
      ]
     },
     "metadata": {},
     "output_type": "display_data"
    },
    {
     "data": {
      "application/javascript": [
       "if (typeof Jupyter !== \"undefined\") { window.__context = { glowscript_container: $(\"#glowscript\").removeAttr(\"id\")};}else{ element.textContent = ' ';}"
      ],
      "text/plain": [
       "<IPython.core.display.Javascript object>"
      ]
     },
     "metadata": {},
     "output_type": "display_data"
    },
    {
     "data": {
      "text/html": [
       "<div id=\"glowscript\" class=\"glowscript\"></div>"
      ],
      "text/plain": [
       "<IPython.core.display.HTML object>"
      ]
     },
     "metadata": {},
     "output_type": "display_data"
    },
    {
     "data": {
      "application/javascript": [
       "if (typeof Jupyter !== \"undefined\") { window.__context = { glowscript_container: $(\"#glowscript\").removeAttr(\"id\")};}else{ element.textContent = ' ';}"
      ],
      "text/plain": [
       "<IPython.core.display.Javascript object>"
      ]
     },
     "metadata": {},
     "output_type": "display_data"
    }
   ],
   "source": [
    "exampleTime = SolarSystemTimeExample(\"Earth\")\n",
    "exampleTime = SolarSystemTimeExample(\"Mercury\")"
   ]
  },
  {
   "cell_type": "markdown",
   "id": "2de0c2b5-abc4-4489-93b2-60392116d749",
   "metadata": {},
   "source": [
    "In addition, you can see in the two simulations above that a higher dt results in a wonkier simulation. This is because each progression of position accounts for a larger period of time. For example, a dt of 86400 would represent a whole day, whereas a dt of 3600 only represents an hour. The progression of the planets becomes much less smooth when the time intervals are very high."
   ]
  },
  {
   "cell_type": "markdown",
   "id": "248dd387-2d40-4695-a9db-3e701a9e5ef3",
   "metadata": {},
   "source": [
    "### Assumptions"
   ]
  },
  {
   "cell_type": "markdown",
   "id": "48357c4c-5545-487e-b3d7-e696be6bcdb8",
   "metadata": {},
   "source": [
    "Planet Information: https://ssd.jpl.nasa.gov/horizons/app.html#/,\n",
    "https://nssdc.gsfc.nasa.gov/planetary/factsheet/\n",
    "\n",
    "Equations: https://en.wikipedia.org/wiki/Gravitational_acceleration"
   ]
  }
 ],
 "metadata": {
  "kernelspec": {
   "display_name": "Python 3 (ipykernel)",
   "language": "python",
   "name": "python3"
  },
  "language_info": {
   "codemirror_mode": {
    "name": "ipython",
    "version": 3
   },
   "file_extension": ".py",
   "mimetype": "text/x-python",
   "name": "python",
   "nbconvert_exporter": "python",
   "pygments_lexer": "ipython3",
   "version": "3.10.16"
  }
 },
 "nbformat": 4,
 "nbformat_minor": 5
}
