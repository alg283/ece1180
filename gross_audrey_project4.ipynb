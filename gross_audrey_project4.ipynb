{
 "cells": [
  {
   "cell_type": "markdown",
   "id": "e15a310d-2b70-43dc-a340-f83ec7c376ab",
   "metadata": {},
   "source": [
    "# Project 4: Cellular Automata"
   ]
  },
  {
   "cell_type": "markdown",
   "id": "d40ea978-bbae-441f-8fc1-09e080fbac05",
   "metadata": {},
   "source": [
    "## Random Walker"
   ]
  },
  {
   "cell_type": "code",
   "execution_count": 1,
   "id": "d13d4b2b-98ee-4de9-937b-e61bbae3fd3c",
   "metadata": {},
   "outputs": [
    {
     "data": {
      "text/html": [
       "<div id=\"glowscript\" class=\"glowscript\"></div>"
      ],
      "text/plain": [
       "<IPython.core.display.HTML object>"
      ]
     },
     "metadata": {},
     "output_type": "display_data"
    },
    {
     "data": {
      "application/javascript": [
       "if (typeof Jupyter !== \"undefined\") { window.__context = { glowscript_container: $(\"#glowscript\").removeAttr(\"id\")};}else{ element.textContent = ' ';}"
      ],
      "text/plain": [
       "<IPython.core.display.Javascript object>"
      ]
     },
     "metadata": {},
     "output_type": "display_data"
    }
   ],
   "source": [
    "from vpython import *\n",
    "import math\n",
    "import numpy as np\n",
    "import matplotlib.pyplot as plt\n",
    "import time"
   ]
  },
  {
   "cell_type": "code",
   "execution_count": 10,
   "id": "fdbde2b1-ab14-4596-b6d3-5b8a46e13555",
   "metadata": {},
   "outputs": [],
   "source": [
    "dt = 0.01\n",
    "def randomWalker(steps,vis):\n",
    "    x,y=0,0\n",
    "    poss = [(x,y)]\n",
    "    if vis == True:\n",
    "        scene = canvas()\n",
    "        walker = sphere(pos=vector(0, 0, 0), radius=0.75, color=color.red, make_trail=True)\n",
    "    count = 0\n",
    "    \n",
    "    while(count<steps):\n",
    "        rate(10)\n",
    "        direction = np.random.choice(['left', 'right', 'up', 'down'])\n",
    "\n",
    "        if vis == True:\n",
    "            if direction == 'left':\n",
    "                walker.pos.x -=1\n",
    "            elif direction == 'right':\n",
    "                walker.pos.x +=1\n",
    "            elif direction == 'up':\n",
    "                walker.pos.y +=1\n",
    "            else:\n",
    "                walker.pos.y -=1\n",
    "        else:\n",
    "            if direction == 'left':\n",
    "                x -=1\n",
    "            elif direction == 'right':\n",
    "                x+=1\n",
    "            elif direction == 'up':\n",
    "                y+=1\n",
    "            else:\n",
    "                y-=1\n",
    "        count+=1\n",
    "        poss.append((x,y))\n",
    "    return poss"
   ]
  },
  {
   "cell_type": "code",
   "execution_count": 11,
   "id": "d5945ba9-894a-4688-964b-000720980095",
   "metadata": {},
   "outputs": [
    {
     "data": {
      "text/html": [
       "<div id=\"glowscript\" class=\"glowscript\"></div>"
      ],
      "text/plain": [
       "<IPython.core.display.HTML object>"
      ]
     },
     "metadata": {},
     "output_type": "display_data"
    },
    {
     "data": {
      "application/javascript": [
       "if (typeof Jupyter !== \"undefined\") { window.__context = { glowscript_container: $(\"#glowscript\").removeAttr(\"id\")};}else{ element.textContent = ' ';}"
      ],
      "text/plain": [
       "<IPython.core.display.Javascript object>"
      ]
     },
     "metadata": {},
     "output_type": "display_data"
    },
    {
     "data": {
      "application/javascript": [
       "if (typeof Jupyter !== \"undefined\") {require.undef(\"nbextensions/vpython_libraries/glow.min\");}else{element.textContent = ' ';}"
      ],
      "text/plain": [
       "<IPython.core.display.Javascript object>"
      ]
     },
     "metadata": {},
     "output_type": "display_data"
    },
    {
     "data": {
      "application/javascript": [
       "if (typeof Jupyter !== \"undefined\") {require.undef(\"nbextensions/vpython_libraries/glowcomm\");}else{element.textContent = ' ';}"
      ],
      "text/plain": [
       "<IPython.core.display.Javascript object>"
      ]
     },
     "metadata": {},
     "output_type": "display_data"
    },
    {
     "data": {
      "application/javascript": [
       "if (typeof Jupyter !== \"undefined\") {require.undef(\"nbextensions/vpython_libraries/jquery-ui.custom.min\");}else{element.textContent = ' ';}"
      ],
      "text/plain": [
       "<IPython.core.display.Javascript object>"
      ]
     },
     "metadata": {},
     "output_type": "display_data"
    },
    {
     "data": {
      "application/javascript": [
       "if (typeof Jupyter !== \"undefined\") {require([\"nbextensions/vpython_libraries/glow.min\"], function(){console.log(\"GLOW LOADED\");});}else{element.textContent = ' ';}"
      ],
      "text/plain": [
       "<IPython.core.display.Javascript object>"
      ]
     },
     "metadata": {},
     "output_type": "display_data"
    },
    {
     "data": {
      "application/javascript": [
       "if (typeof Jupyter !== \"undefined\") {require([\"nbextensions/vpython_libraries/glowcomm\"], function(){console.log(\"GLOWCOMM LOADED\");});}else{element.textContent = ' ';}"
      ],
      "text/plain": [
       "<IPython.core.display.Javascript object>"
      ]
     },
     "metadata": {},
     "output_type": "display_data"
    },
    {
     "data": {
      "application/javascript": [
       "if (typeof Jupyter !== \"undefined\") {require([\"nbextensions/vpython_libraries/jquery-ui.custom.min\"], function(){console.log(\"JQUERY LOADED\");});}else{element.textContent = ' ';}"
      ],
      "text/plain": [
       "<IPython.core.display.Javascript object>"
      ]
     },
     "metadata": {},
     "output_type": "display_data"
    }
   ],
   "source": [
    "x = randomWalker(100,True)"
   ]
  },
  {
   "cell_type": "markdown",
   "id": "5974e0bd-dbcd-4a9c-8357-f799f97c06bd",
   "metadata": {},
   "source": [
    "### Results"
   ]
  },
  {
   "cell_type": "markdown",
   "id": "d8760e07-a254-4b3f-bcc8-d361e02fa7af",
   "metadata": {},
   "source": [
    "Running multiple trials of the random generator and creating a histogram of the results demonstrates that the randomness is uniformly distributed among the four directions. Running multiple trials ensures that the data set is not biased or lacking in data. \n",
    "\n",
    "In theory, running 10,000 trials should result in each direction being selected 2,500 times if the randomness is uniformly distributed. In the histogram below, it is shown that each direction is picked relatively 2,500 times."
   ]
  },
  {
   "cell_type": "code",
   "execution_count": 12,
   "id": "6990c4b5-7200-4045-817e-3aa287e53247",
   "metadata": {},
   "outputs": [
    {
     "data": {
      "image/png": "[encoded data removed]",
      "text/plain": [
       "<Figure size 640x480 with 1 Axes>"
      ]
     },
     "metadata": {},
     "output_type": "display_data"
    }
   ],
   "source": [
    "def graphRandomTrials(trials=10000):\n",
    "    choices = [np.random.choice(['left', 'right', 'up', 'down']) for _ in range(trials)]\n",
    "    counts = [choices.count(dir) for dir in ['left', 'right', 'up', 'down']]\n",
    "    \n",
    "    plt.bar(['left', 'right', 'up', 'down'], counts, color=['red', 'blue', 'green', 'purple'])\n",
    "    plt.xlabel(\"Direction\")\n",
    "    plt.ylabel(\"Frequency\")\n",
    "    plt.title(\"Random Direction Distribution\")\n",
    "    plt.show()\n",
    "\n",
    "graphRandomTrials()"
   ]
  },
  {
   "cell_type": "code",
   "execution_count": 13,
   "id": "48a32964-fc55-4ebe-ae08-7c4e4eb023df",
   "metadata": {},
   "outputs": [
    {
     "name": "stdout",
     "output_type": "stream",
     "text": [
      "Average distance: 10.370829136839273\n",
      "Expected distance: 10.0\n"
     ]
    }
   ],
   "source": [
    "def mulRandomWalker(trials,steps,vis):\n",
    "    \"\"\"Simulate multiple random walks and compute average distance\"\"\"\n",
    "    distances = []\n",
    "    for _ in range(trials):\n",
    "        positions = randomWalker(steps,False)\n",
    "        x_final, y_final = positions[-1]\n",
    "        distance = np.sqrt(x_final**2 + y_final**2)\n",
    "        distances.append(distance)\n",
    "    \n",
    "    avg_distance = np.mean(distances)\n",
    "    expected_distance = np.sqrt(steps)\n",
    "    \n",
    "    print(\"Average distance:\",avg_distance)\n",
    "    print(\"Expected distance:\",expected_distance)\n",
    "\n",
    "mulRandomWalker(10,100,False)"
   ]
  },
  {
   "cell_type": "markdown",
   "id": "57906a99-ad37-428b-aba5-d87130e39571",
   "metadata": {},
   "source": [
    "## Cellular Automaton"
   ]
  },
  {
   "cell_type": "markdown",
   "id": "76a98599-3916-4774-9575-12bca5b8780a",
   "metadata": {},
   "source": [
    "### Rule 150"
   ]
  },
  {
   "cell_type": "code",
   "execution_count": 14,
   "id": "83a12a9d-ed41-4aba-a0ce-e9b2246fd0dc",
   "metadata": {},
   "outputs": [],
   "source": [
    "def rule150(left, center, right):\n",
    "    rule = {\n",
    "        (1, 1, 1): 1,\n",
    "        (1, 1, 0): 0,\n",
    "        (1, 0, 1): 0,\n",
    "        (1, 0, 0): 1,\n",
    "        (0, 1, 1): 0,\n",
    "        (0, 1, 0): 1,\n",
    "        (0, 0, 1): 1,\n",
    "        (0, 0, 0): 0\n",
    "    }\n",
    "    return rule[(left, center, right)]"
   ]
  },
  {
   "cell_type": "code",
   "execution_count": 15,
   "id": "2971e338-cf0a-4cb1-8fb8-dcc5d57889cc",
   "metadata": {},
   "outputs": [],
   "source": [
    "def generateCellularAutomoton(rule, size, steps):\n",
    "    grid = np.zeros((steps, size), dtype=int)\n",
    "    grid[0, size // 2] = 1 \n",
    "    \n",
    "    for t in range(1, steps):\n",
    "        for i in range(1, size - 1):\n",
    "            grid[t, i] = rule(grid[t - 1, i - 1], grid[t - 1, i], grid[t - 1, i + 1])\n",
    "    \n",
    "    return grid"
   ]
  },
  {
   "cell_type": "code",
   "execution_count": 16,
   "id": "84e0464e-cc2e-4c09-8a4c-efdc34eee970",
   "metadata": {},
   "outputs": [],
   "source": [
    "def plotAutomoton(grid):\n",
    "    plt.figure(figsize=(10, 10))\n",
    "    plt.imshow(grid, cmap=\"binary\", interpolation=\"nearest\")\n",
    "    plt.xlabel(\"Cell\")\n",
    "    plt.ylabel(\"Time Step\")\n",
    "    plt.title(\"Rule 150\")\n",
    "    plt.show()"
   ]
  },
  {
   "cell_type": "code",
   "execution_count": 17,
   "id": "0201520f-f784-4ee0-912d-62560969b19a",
   "metadata": {},
   "outputs": [
    {
     "data": {
      "image/png": "[encoded data removed]",
      "text/plain": [
       "<Figure size 1000x1000 with 1 Axes>"
      ]
     },
     "metadata": {},
     "output_type": "display_data"
    },
    {
     "data": {
      "image/png": "[encoded data removed]",
      "text/plain": [
       "<Figure size 1000x1000 with 1 Axes>"
      ]
     },
     "metadata": {},
     "output_type": "display_data"
    }
   ],
   "source": [
    "size = 33 # cells in a row\n",
    "steps = 16  # columns\n",
    "\n",
    "grid = generateCellularAutomoton(rule150, size, steps)\n",
    "plotAutomoton(grid)\n",
    "\n",
    "size = 101\n",
    "steps = 50\n",
    "grid = generateCellularAutomoton(rule150, size, steps)\n",
    "plotAutomoton(grid)"
   ]
  },
  {
   "cell_type": "markdown",
   "id": "67246277-5a95-4801-9167-4dea9828ec9b",
   "metadata": {},
   "source": [
    "### Results"
   ]
  },
  {
   "cell_type": "markdown",
   "id": "231327b5-e352-4c95-a2ab-6f26db641e7d",
   "metadata": {},
   "source": [
    "I chose rule 150 because I felt as though the pattern was more complex and therefore more visually appealing. I chose to make the size 33 and steps 16 because I wanted to be able to visually compare to the Rule 150 example on the Wolfram site. In comparison to the Rule 150 graph on the site and mine, they are exactly identical, which verifies my code. Changing the binary rule makes the code adaptable to any other rule as well.\n",
    "\n",
    "Choosing a bigger size and step makes for a more complex image as you can see in the second graph."
   ]
  },
  {
   "cell_type": "markdown",
   "id": "81140358-2f97-4952-9d3a-008f48366381",
   "metadata": {},
   "source": [
    "## Conway's Game of Life"
   ]
  },
  {
   "cell_type": "markdown",
   "id": "10f94e9e-c093-478a-8cfd-249bc45e477d",
   "metadata": {},
   "source": [
    "### Synchronous Updating"
   ]
  },
  {
   "cell_type": "code",
   "execution_count": 2,
   "id": "c8d6b3a7-90c3-4f1e-b5cb-f494bed7be42",
   "metadata": {},
   "outputs": [],
   "source": [
    "gridsize = 50  \n",
    "cellsize = 0.2 \n",
    "num_generations = 100 "
   ]
  },
  {
   "cell_type": "code",
   "execution_count": 3,
   "id": "7b7bd55b-d152-4453-874b-b5825a9143be",
   "metadata": {},
   "outputs": [],
   "source": [
    "def findNeighbors(grid, x, y):\n",
    "    total = 0\n",
    "    for i in range(x - 1, x + 2):  \n",
    "        for j in range(y - 1, y + 2):\n",
    "            if i == x and j == y: \n",
    "                continue\n",
    "            if 0 <= i < gridsize and 0 <= j < gridsize:\n",
    "                total += grid[i, j]\n",
    "    return total"
   ]
  },
  {
   "cell_type": "code",
   "execution_count": 4,
   "id": "ef70a85d-6605-4950-8482-5524fea0d96d",
   "metadata": {},
   "outputs": [],
   "source": [
    "def rules(grid):\n",
    "    new_grid = np.zeros_like(grid)\n",
    "    for i in range(gridsize):\n",
    "        for j in range(gridsize):\n",
    "            neighbors = findNeighbors(grid, i, j)\n",
    "            if grid[i, j] == 1: # alive cell\n",
    "                if neighbors < 2 or neighbors > 3:  # death\n",
    "                    new_grid[i, j] = 0\n",
    "                else:  \n",
    "                    new_grid[i, j] = 1\n",
    "            else:  # dead cell\n",
    "                if neighbors == 3: # \"birth\"\n",
    "                    new_grid[i, j] = 1\n",
    "    return new_grid"
   ]
  },
  {
   "cell_type": "code",
   "execution_count": 5,
   "id": "f4441127-448e-40a6-b972-19b20649553d",
   "metadata": {},
   "outputs": [],
   "source": [
    "def blinker(grid):\n",
    "    grid[gridsize // 2, gridsize // 2 - 1:gridsize // 2 + 2] = 1\n",
    "    return grid\n",
    "\n",
    "def toad(grid):\n",
    "    center_x = gridsize // 2\n",
    "    center_y = gridsize // 2\n",
    "\n",
    "    grid[center_x, center_y] = 1\n",
    "    grid[center_x + 1, center_y] = 1\n",
    "    grid[center_x + 2, center_y] = 1\n",
    "    \n",
    "    grid[center_x + 1, center_y + 1] = 1\n",
    "    grid[center_x + 2, center_y + 1] = 1\n",
    "    grid[center_x + 3, center_y + 1] = 1\n",
    "\n",
    "    return grid"
   ]
  },
  {
   "cell_type": "code",
   "execution_count": 6,
   "id": "0b8e4c6b-1dcd-467e-acf1-e20091678e7a",
   "metadata": {},
   "outputs": [],
   "source": [
    "def asynchRules(grid):\n",
    "    new_grid = grid.copy()\n",
    "    indices = [(i, j) for i in range(grid_size) for j in range(grid_size)]\n",
    "    np.random.shuffle(indices)\n",
    "    \n",
    "    for i, j in indices:\n",
    "        neighbors = count_neighbors(grid, i, j)\n",
    "        if grid[i, j] == 1:  # alive cell\n",
    "            if neighbors < 2 or neighbors > 3:  # death\n",
    "                new_grid[i, j] = 0\n",
    "            else:  \n",
    "                new_grid[i, j] = 1\n",
    "        else:  # dead cell\n",
    "            if neighbors == 3:  # birth\n",
    "                new_grid[i, j] = 1\n",
    "    \n",
    "    return new_grid"
   ]
  },
  {
   "cell_type": "code",
   "execution_count": 7,
   "id": "46d6fb23-6cbb-4c95-8e4a-b11de3dcc02b",
   "metadata": {},
   "outputs": [],
   "source": [
    "def conwaysGameOfLife(sets,rule):\n",
    "    # create the grid\n",
    "    if sets==\"blinker\":\n",
    "        grid = np.zeros((gridsize, gridsize), dtype=int)\n",
    "        grid = blinker(grid)\n",
    "    elif sets==\"toad\":\n",
    "        grid = np.zeros((gridsize, gridsize), dtype=int)\n",
    "        grid = toad(grid)\n",
    "    else:\n",
    "        grid = np.random.randint(2, size=(gridsize, gridsize), dtype=int)\n",
    "        \n",
    "    scene = canvas()\n",
    "    cells = []\n",
    "    for i in range(gridsize):\n",
    "        row = []\n",
    "        for j in range(gridsize):\n",
    "            cell = box(pos=vector(i * cellsize - gridsize * cellsize / 2,\n",
    "                                 j * cellsize - gridsize * cellsize / 2, 0),\n",
    "                       size=vector(cellsize, cellsize, 0.1),\n",
    "                       color=color.white if grid[i, j] == 0 else color.red)\n",
    "            row.append(cell)\n",
    "        cells.append(row)\n",
    "        \n",
    "    for gen in range(num_generations):\n",
    "        rate(10)  \n",
    "        if rules==\"asynch\":\n",
    "            grid = asynchRules(grid)\n",
    "        else:\n",
    "            grid = rules(grid)\n",
    "        for i in range(gridsize):\n",
    "            for j in range(gridsize):\n",
    "                if grid[i, j] == 1:\n",
    "                    cells[i][j].color = color.red\n",
    "                else:\n",
    "                    cells[i][j].color = color.white \n",
    "    \n",
    "        time.sleep(0.5) "
   ]
  },
  {
   "cell_type": "code",
   "execution_count": 8,
   "id": "98947aaa-6102-4676-aa69-4f64adfad047",
   "metadata": {
    "scrolled": true
   },
   "outputs": [
    {
     "data": {
      "text/html": [
       "<div id=\"glowscript\" class=\"glowscript\"></div>"
      ],
      "text/plain": [
       "<IPython.core.display.HTML object>"
      ]
     },
     "metadata": {},
     "output_type": "display_data"
    },
    {
     "data": {
      "application/javascript": [
       "if (typeof Jupyter !== \"undefined\") { window.__context = { glowscript_container: $(\"#glowscript\").removeAttr(\"id\")};}else{ element.textContent = ' ';}"
      ],
      "text/plain": [
       "<IPython.core.display.Javascript object>"
      ]
     },
     "metadata": {},
     "output_type": "display_data"
    },
    {
     "data": {
      "application/javascript": [
       "if (typeof Jupyter !== \"undefined\") {require.undef(\"nbextensions/vpython_libraries/glow.min\");}else{element.textContent = ' ';}"
      ],
      "text/plain": [
       "<IPython.core.display.Javascript object>"
      ]
     },
     "metadata": {},
     "output_type": "display_data"
    },
    {
     "data": {
      "application/javascript": [
       "if (typeof Jupyter !== \"undefined\") {require.undef(\"nbextensions/vpython_libraries/glowcomm\");}else{element.textContent = ' ';}"
      ],
      "text/plain": [
       "<IPython.core.display.Javascript object>"
      ]
     },
     "metadata": {},
     "output_type": "display_data"
    },
    {
     "data": {
      "application/javascript": [
       "if (typeof Jupyter !== \"undefined\") {require.undef(\"nbextensions/vpython_libraries/jquery-ui.custom.min\");}else{element.textContent = ' ';}"
      ],
      "text/plain": [
       "<IPython.core.display.Javascript object>"
      ]
     },
     "metadata": {},
     "output_type": "display_data"
    },
    {
     "data": {
      "application/javascript": [
       "if (typeof Jupyter !== \"undefined\") {require([\"nbextensions/vpython_libraries/glow.min\"], function(){console.log(\"GLOW LOADED\");});}else{element.textContent = ' ';}"
      ],
      "text/plain": [
       "<IPython.core.display.Javascript object>"
      ]
     },
     "metadata": {},
     "output_type": "display_data"
    },
    {
     "data": {
      "application/javascript": [
       "if (typeof Jupyter !== \"undefined\") {require([\"nbextensions/vpython_libraries/glowcomm\"], function(){console.log(\"GLOWCOMM LOADED\");});}else{element.textContent = ' ';}"
      ],
      "text/plain": [
       "<IPython.core.display.Javascript object>"
      ]
     },
     "metadata": {},
     "output_type": "display_data"
    },
    {
     "data": {
      "application/javascript": [
       "if (typeof Jupyter !== \"undefined\") {require([\"nbextensions/vpython_libraries/jquery-ui.custom.min\"], function(){console.log(\"JQUERY LOADED\");});}else{element.textContent = ' ';}"
      ],
      "text/plain": [
       "<IPython.core.display.Javascript object>"
      ]
     },
     "metadata": {},
     "output_type": "display_data"
    },
    {
     "ename": "KeyboardInterrupt",
     "evalue": "",
     "output_type": "error",
     "traceback": [
      "\u001b[1;31m---------------------------------------------------------------------------\u001b[0m",
      "\u001b[1;31mKeyboardInterrupt\u001b[0m                         Traceback (most recent call last)",
      "Cell \u001b[1;32mIn[8], line 1\u001b[0m\n\u001b[1;32m----> 1\u001b[0m x \u001b[38;5;241m=\u001b[39m \u001b[43mconwaysGameOfLife\u001b[49m\u001b[43m(\u001b[49m\u001b[38;5;124;43m\"\u001b[39;49m\u001b[38;5;124;43mblinker\u001b[39;49m\u001b[38;5;124;43m\"\u001b[39;49m\u001b[43m,\u001b[49m\u001b[38;5;124;43m\"\u001b[39;49m\u001b[38;5;124;43m\"\u001b[39;49m\u001b[43m)\u001b[49m\n",
      "Cell \u001b[1;32mIn[7], line 37\u001b[0m, in \u001b[0;36mconwaysGameOfLife\u001b[1;34m(sets, rule)\u001b[0m\n\u001b[0;32m     34\u001b[0m         \u001b[38;5;28;01melse\u001b[39;00m:\n\u001b[0;32m     35\u001b[0m             cells[i][j]\u001b[38;5;241m.\u001b[39mcolor \u001b[38;5;241m=\u001b[39m color\u001b[38;5;241m.\u001b[39mwhite \n\u001b[1;32m---> 37\u001b[0m \u001b[43mtime\u001b[49m\u001b[38;5;241;43m.\u001b[39;49m\u001b[43msleep\u001b[49m\u001b[43m(\u001b[49m\u001b[38;5;241;43m0.5\u001b[39;49m\u001b[43m)\u001b[49m\n",
      "\u001b[1;31mKeyboardInterrupt\u001b[0m: "
     ]
    }
   ],
   "source": [
    "x = conwaysGameOfLife(\"blinker\",\"\")"
   ]
  },
  {
   "cell_type": "code",
   "execution_count": 28,
   "id": "fb5c097d-baf2-4746-aa7d-3a6a4d5986f7",
   "metadata": {},
   "outputs": [
    {
     "data": {
      "text/html": [
       "<div id=\"glowscript\" class=\"glowscript\"></div>"
      ],
      "text/plain": [
       "<IPython.core.display.HTML object>"
      ]
     },
     "metadata": {},
     "output_type": "display_data"
    },
    {
     "data": {
      "application/javascript": [
       "if (typeof Jupyter !== \"undefined\") { window.__context = { glowscript_container: $(\"#glowscript\").removeAttr(\"id\")};}else{ element.textContent = ' ';}"
      ],
      "text/plain": [
       "<IPython.core.display.Javascript object>"
      ]
     },
     "metadata": {},
     "output_type": "display_data"
    }
   ],
   "source": [
    "x = conwaysGameOfLife(\"toad\",\"\")"
   ]
  },
  {
   "cell_type": "code",
   "execution_count": 9,
   "id": "d91e89e6-75df-4c92-a74b-0e91391ecc7e",
   "metadata": {
    "scrolled": true
   },
   "outputs": [
    {
     "data": {
      "text/html": [
       "<div id=\"glowscript\" class=\"glowscript\"></div>"
      ],
      "text/plain": [
       "<IPython.core.display.HTML object>"
      ]
     },
     "metadata": {},
     "output_type": "display_data"
    },
    {
     "data": {
      "application/javascript": [
       "if (typeof Jupyter !== \"undefined\") { window.__context = { glowscript_container: $(\"#glowscript\").removeAttr(\"id\")};}else{ element.textContent = ' ';}"
      ],
      "text/plain": [
       "<IPython.core.display.Javascript object>"
      ]
     },
     "metadata": {},
     "output_type": "display_data"
    },
    {
     "ename": "KeyboardInterrupt",
     "evalue": "",
     "output_type": "error",
     "traceback": [
      "\u001b[1;31m---------------------------------------------------------------------------\u001b[0m",
      "\u001b[1;31mKeyboardInterrupt\u001b[0m                         Traceback (most recent call last)",
      "Cell \u001b[1;32mIn[9], line 1\u001b[0m\n\u001b[1;32m----> 1\u001b[0m x \u001b[38;5;241m=\u001b[39m \u001b[43mconwaysGameOfLife\u001b[49m\u001b[43m(\u001b[49m\u001b[38;5;124;43m\"\u001b[39;49m\u001b[38;5;124;43m\"\u001b[39;49m\u001b[43m,\u001b[49m\u001b[38;5;124;43m\"\u001b[39;49m\u001b[38;5;124;43m\"\u001b[39;49m\u001b[43m)\u001b[49m\n",
      "Cell \u001b[1;32mIn[7], line 37\u001b[0m, in \u001b[0;36mconwaysGameOfLife\u001b[1;34m(sets, rule)\u001b[0m\n\u001b[0;32m     34\u001b[0m         \u001b[38;5;28;01melse\u001b[39;00m:\n\u001b[0;32m     35\u001b[0m             cells[i][j]\u001b[38;5;241m.\u001b[39mcolor \u001b[38;5;241m=\u001b[39m color\u001b[38;5;241m.\u001b[39mwhite \n\u001b[1;32m---> 37\u001b[0m \u001b[43mtime\u001b[49m\u001b[38;5;241;43m.\u001b[39;49m\u001b[43msleep\u001b[49m\u001b[43m(\u001b[49m\u001b[38;5;241;43m0.5\u001b[39;49m\u001b[43m)\u001b[49m\n",
      "\u001b[1;31mKeyboardInterrupt\u001b[0m: "
     ]
    }
   ],
   "source": [
    "x = conwaysGameOfLife(\"\",\"\")"
   ]
  },
  {
   "cell_type": "markdown",
   "id": "ac1ef83c-6d8a-422e-9c4f-d17a7bc0d5b3",
   "metadata": {},
   "source": [
    "### Results"
   ]
  },
  {
   "cell_type": "markdown",
   "id": "7fcc08c2-04bf-4913-aa2c-e8c081d4277e",
   "metadata": {},
   "source": [
    "When using the blinking and toad oscillator on their own, we can see that their behavior matches the correct behavior that they should. This ensures that the simulation is following the rules as they should. In the larger random simulation, we can see these behaviors as well when there are still lifes or oscillators scattered throughout the simulation. The correct behavior in isolated cases verifies that the behavior is correct on a larger scale."
   ]
  },
  {
   "cell_type": "markdown",
   "id": "6c496ddc-efaf-4f94-91d1-cb31752d191a",
   "metadata": {},
   "source": [
    "## Asynchronous Updating"
   ]
  },
  {
   "cell_type": "code",
   "execution_count": 9,
   "id": "b7f2902c-6f59-4df7-8078-710c75fa5cbf",
   "metadata": {},
   "outputs": [
    {
     "data": {
      "text/html": [
       "<div id=\"glowscript\" class=\"glowscript\"></div>"
      ],
      "text/plain": [
       "<IPython.core.display.HTML object>"
      ]
     },
     "metadata": {},
     "output_type": "display_data"
    },
    {
     "data": {
      "application/javascript": [
       "if (typeof Jupyter !== \"undefined\") { window.__context = { glowscript_container: $(\"#glowscript\").removeAttr(\"id\")};}else{ element.textContent = ' ';}"
      ],
      "text/plain": [
       "<IPython.core.display.Javascript object>"
      ]
     },
     "metadata": {},
     "output_type": "display_data"
    }
   ],
   "source": [
    "x = conwaysGameOfLife(\"blinker\",\"asynch\")"
   ]
  },
  {
   "cell_type": "code",
   "execution_count": 10,
   "id": "aadd729a-bcfb-43f7-8a28-69e8bbdb851d",
   "metadata": {},
   "outputs": [
    {
     "data": {
      "text/html": [
       "<div id=\"glowscript\" class=\"glowscript\"></div>"
      ],
      "text/plain": [
       "<IPython.core.display.HTML object>"
      ]
     },
     "metadata": {},
     "output_type": "display_data"
    },
    {
     "data": {
      "application/javascript": [
       "if (typeof Jupyter !== \"undefined\") { window.__context = { glowscript_container: $(\"#glowscript\").removeAttr(\"id\")};}else{ element.textContent = ' ';}"
      ],
      "text/plain": [
       "<IPython.core.display.Javascript object>"
      ]
     },
     "metadata": {},
     "output_type": "display_data"
    }
   ],
   "source": [
    "x = conwaysGameOfLife(\"toad\",\"asynch\")"
   ]
  },
  {
   "cell_type": "code",
   "execution_count": 10,
   "id": "f3275c9c-90b4-44ac-b1d8-b52d894cf1d2",
   "metadata": {},
   "outputs": [
    {
     "data": {
      "text/html": [
       "<div id=\"glowscript\" class=\"glowscript\"></div>"
      ],
      "text/plain": [
       "<IPython.core.display.HTML object>"
      ]
     },
     "metadata": {},
     "output_type": "display_data"
    },
    {
     "data": {
      "application/javascript": [
       "if (typeof Jupyter !== \"undefined\") { window.__context = { glowscript_container: $(\"#glowscript\").removeAttr(\"id\")};}else{ element.textContent = ' ';}"
      ],
      "text/plain": [
       "<IPython.core.display.Javascript object>"
      ]
     },
     "metadata": {},
     "output_type": "display_data"
    }
   ],
   "source": [
    "x = conwaysGameOfLife(\"\",\"asynch\")"
   ]
  },
  {
   "cell_type": "markdown",
   "id": "77699703-e664-4d62-9562-5bc13e30b351",
   "metadata": {},
   "source": [
    "### Results"
   ]
  },
  {
   "cell_type": "markdown",
   "id": "184b1531-bf83-42ee-8e4a-37dca15ab55d",
   "metadata": {},
   "source": [
    "For the asynchronous updating version of Conwway's Game of Life, I chose to use the random order scheme. I chose to use random order because I thought the unpredictability of the cell updating could reveal more visually different behavior from the synchronous updating. \n",
    "\n",
    "In the simulation, the oscillators and still lifes behaved the same way. This can be seen in the isolated simulations of the blinker and toad, as well as the final larger simulation. In the larger simulation, the element of the random order scheme allows for the oscillators and still lifes to sometimes only be partly affected after one update, which then affects the following update. In short, when a still life or oscillator is affected, parts of it can remain before it fully changes."
   ]
  },
  {
   "cell_type": "code",
   "execution_count": null,
   "id": "c24ea27b-6ca0-4d69-a90b-ef2a3f3f4a40",
   "metadata": {},
   "outputs": [],
   "source": []
  }
 ],
 "metadata": {
  "kernelspec": {
   "display_name": "Python 3 (ipykernel)",
   "language": "python",
   "name": "python3"
  },
  "language_info": {
   "codemirror_mode": {
    "name": "ipython",
    "version": 3
   },
   "file_extension": ".py",
   "mimetype": "text/x-python",
   "name": "python",
   "nbconvert_exporter": "python",
   "pygments_lexer": "ipython3",
   "version": "3.10.16"
  }
 },
 "nbformat": 4,
 "nbformat_minor": 5
}
