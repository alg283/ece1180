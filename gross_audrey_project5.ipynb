{
 "cells": [
  {
   "cell_type": "markdown",
   "id": "045dc169-75e2-4641-94e9-d4c311d7e34b",
   "metadata": {},
   "source": [
    "# Project 5: Logic Networks"
   ]
  },
  {
   "cell_type": "markdown",
   "id": "f3f254b3-c771-46ea-88fc-591f2f4b0708",
   "metadata": {},
   "source": [
    "## NAND Gate"
   ]
  },
  {
   "cell_type": "code",
   "execution_count": 1,
   "id": "adccf028-681f-4b75-a46a-1102dc481fee",
   "metadata": {},
   "outputs": [
    {
     "data": {
      "text/html": [
       "<div id=\"glowscript\" class=\"glowscript\"></div>"
      ],
      "text/plain": [
       "<IPython.core.display.HTML object>"
      ]
     },
     "metadata": {},
     "output_type": "display_data"
    },
    {
     "data": {
      "application/javascript": [
       "if (typeof Jupyter !== \"undefined\") { window.__context = { glowscript_container: $(\"#glowscript\").removeAttr(\"id\")};}else{ element.textContent = ' ';}"
      ],
      "text/plain": [
       "<IPython.core.display.Javascript object>"
      ]
     },
     "metadata": {},
     "output_type": "display_data"
    }
   ],
   "source": [
    "from vpython import *\n",
    "import math\n",
    "import numpy as np\n",
    "import matplotlib.pyplot as plt\n",
    "import heapq, time"
   ]
  },
  {
   "cell_type": "code",
   "execution_count": 2,
   "id": "b21f9e99-07f8-4773-92ec-12c05ff5727c",
   "metadata": {},
   "outputs": [],
   "source": [
    "class Gate:\n",
    "    _id_counter = 0\n",
    "\n",
    "    def __init__(self, input_nets, output_net, logic_fn, delay=7, name=None):\n",
    "        self.id = Gate._id_counter\n",
    "        Gate._id_counter += 1\n",
    "\n",
    "        self.name = name if name else f\"Gate_{self.id}\"\n",
    "        self.inputs = input_nets\n",
    "        self.output = output_net\n",
    "        self.logic_fn = logic_fn\n",
    "        self.delay = delay\n",
    "\n",
    "        if len(self.inputs) < 2:\n",
    "            print(\"gates must have two or more inputs\")\n",
    "\n",
    "        for net in self.inputs:\n",
    "            net.add_receiver(self)\n",
    "        self.output.set_driver(self)\n",
    "\n",
    "    def evaluate(self, time, simulator):\n",
    "        input_values = [net.value for net in self.inputs]\n",
    "        result = self.logic_fn(*input_values)\n",
    "        self.output.set(result, time + self.delay, simulator)\n"
   ]
  },
  {
   "cell_type": "code",
   "execution_count": 3,
   "id": "855336e4-b1f8-4b09-b999-62f8643c37b0",
   "metadata": {},
   "outputs": [],
   "source": [
    "class Net:\n",
    "    _id_counter = 0\n",
    "\n",
    "    def __init__(self, name=None):\n",
    "        self.id = Net._id_counter\n",
    "        Net._id_counter += 1\n",
    "\n",
    "        self.name = name if name else f\"net_{self.id}\"\n",
    "        self.value = 'X'\n",
    "        self.driver = None\n",
    "        self.receivers = []\n",
    "\n",
    "    def set_driver(self, gate):\n",
    "        if self.driver:\n",
    "            print(\"Net already has a driver\")\n",
    "        self.driver = gate\n",
    "\n",
    "    def add_receiver(self, gate):\n",
    "        self.receivers.append(gate)\n",
    "\n",
    "    def set(self, value, time, simulator):\n",
    "        if self.value != value:\n",
    "            simulator.schedule_event(Event(self, value, time))\n"
   ]
  },
  {
   "cell_type": "code",
   "execution_count": 4,
   "id": "924d6435-5953-44b7-b2f3-d68cd378a777",
   "metadata": {},
   "outputs": [],
   "source": [
    "class Event:\n",
    "    def __init__(self, net, value, time):\n",
    "        self.net_id = net.id\n",
    "        self.net = net\n",
    "        self.value = value\n",
    "        self.time = time\n",
    "\n",
    "    # Define less than comparison for sorting events by time\n",
    "    def __lt__(self, other):\n",
    "        return self.time < other.time\n",
    "\n",
    "    # Optional: For debugging purposes, you can add a string representation\n",
    "    def __repr__(self):\n",
    "        return f\"Event(net={self.net.name}, value={self.value}, time={self.time})\""
   ]
  },
  {
   "cell_type": "code",
   "execution_count": 5,
   "id": "73b7e475-107c-4acf-b0c0-738dddf0ac7b",
   "metadata": {},
   "outputs": [],
   "source": [
    "class EventQueue:\n",
    "    def __init__(self):\n",
    "        self.events = []\n",
    "\n",
    "    def post_event(self, event):\n",
    "        # Push the event into the heap (priority queue)\n",
    "        heapq.heappush(self.events, event)\n",
    "\n",
    "    def next_event(self):\n",
    "        # Pop the next event with the earliest time\n",
    "        return heapq.heappop(self.events) if self.events else None\n",
    "\n",
    "    def has_events(self):\n",
    "        # Check if there are any events left in the queue\n",
    "        return len(self.events) > 0"
   ]
  },
  {
   "cell_type": "code",
   "execution_count": 6,
   "id": "05574d4a-490a-4392-a56a-ad8c344f53ca",
   "metadata": {},
   "outputs": [],
   "source": [
    "class Simulator:\n",
    "    def __init__(self):\n",
    "        self.time = 0\n",
    "        self.event_queue = EventQueue()\n",
    "\n",
    "    def schedule_event(self, event):\n",
    "        self.event_queue.post_event(event)\n",
    "\n",
    "    def run(self):\n",
    "        print(\"=== Starting Simulation ===\")\n",
    "        while self.event_queue.has_events():\n",
    "            event = self.event_queue.next_event()\n",
    "            self.time = event.time\n",
    "            affected_gates = set()\n",
    "\n",
    "            net = event.net\n",
    "            print(f\"[{self.time}ns] Net '{net.name}' (ID {net.id}) = {event.value}\")\n",
    "            if net.value != event.value:\n",
    "                #print(f\"[{self.time}ns] Net '{net.name}' (ID {net.id}) = {event.value}\")\n",
    "                net.value = event.value\n",
    "                affected_gates.update(net.receivers)    \n",
    "            for gate in affected_gates:\n",
    "                gate.evaluate(self.time, self)\n",
    "            update_graph()\n",
    "            rate(10)\n",
    "        print(\"=== Simulation Complete ===\")"
   ]
  },
  {
   "cell_type": "code",
   "execution_count": 7,
   "id": "8f2dafd7-27d6-4762-8ff3-3df6e552280f",
   "metadata": {},
   "outputs": [],
   "source": [
    "def nand(input1, input2):\n",
    "    if input1 == 'X' or input2 == 'X':\n",
    "        return 'X'\n",
    "    return 1 if not (input1 and input2) else 0\n",
    "\n",
    "def nor(input1, input2):\n",
    "    if input1 == 'X' or input2 == 'X':\n",
    "        return 'X'\n",
    "    return 1 if not (input1 or input2) else 0"
   ]
  },
  {
   "cell_type": "code",
   "execution_count": 8,
   "id": "6a7fc64f-b16e-483d-8878-5e6bb6f86471",
   "metadata": {},
   "outputs": [],
   "source": [
    "def update_graph():\n",
    "    if A.value != 'X':\n",
    "        A_curve.plot(sim.time, int(A.value))  # Convert to int if needed\n",
    "    if B.value != 'X':\n",
    "        B_curve.plot(sim.time, int(B.value))\n",
    "    if C.value != 'X':\n",
    "        C_curve.plot(sim.time, int(C.value))"
   ]
  },
  {
   "cell_type": "code",
   "execution_count": 9,
   "id": "389c75b8-0225-425b-b589-868275a5402f",
   "metadata": {},
   "outputs": [
    {
     "data": {
      "text/html": [
       "<div id=\"glowscript\" class=\"glowscript\"></div>"
      ],
      "text/plain": [
       "<IPython.core.display.HTML object>"
      ]
     },
     "metadata": {},
     "output_type": "display_data"
    },
    {
     "data": {
      "application/javascript": [
       "if (typeof Jupyter !== \"undefined\") { window.__context = { glowscript_container: $(\"#glowscript\").removeAttr(\"id\")};}else{ element.textContent = ' ';}"
      ],
      "text/plain": [
       "<IPython.core.display.Javascript object>"
      ]
     },
     "metadata": {},
     "output_type": "display_data"
    },
    {
     "data": {
      "application/javascript": [
       "if (typeof Jupyter !== \"undefined\") {require.undef(\"nbextensions/vpython_libraries/glow.min\");}else{element.textContent = ' ';}"
      ],
      "text/plain": [
       "<IPython.core.display.Javascript object>"
      ]
     },
     "metadata": {},
     "output_type": "display_data"
    },
    {
     "data": {
      "application/javascript": [
       "if (typeof Jupyter !== \"undefined\") {require.undef(\"nbextensions/vpython_libraries/glowcomm\");}else{element.textContent = ' ';}"
      ],
      "text/plain": [
       "<IPython.core.display.Javascript object>"
      ]
     },
     "metadata": {},
     "output_type": "display_data"
    },
    {
     "data": {
      "application/javascript": [
       "if (typeof Jupyter !== \"undefined\") {require.undef(\"nbextensions/vpython_libraries/jquery-ui.custom.min\");}else{element.textContent = ' ';}"
      ],
      "text/plain": [
       "<IPython.core.display.Javascript object>"
      ]
     },
     "metadata": {},
     "output_type": "display_data"
    },
    {
     "data": {
      "application/javascript": [
       "if (typeof Jupyter !== \"undefined\") {require([\"nbextensions/vpython_libraries/glow.min\"], function(){console.log(\"GLOW LOADED\");});}else{element.textContent = ' ';}"
      ],
      "text/plain": [
       "<IPython.core.display.Javascript object>"
      ]
     },
     "metadata": {},
     "output_type": "display_data"
    },
    {
     "data": {
      "application/javascript": [
       "if (typeof Jupyter !== \"undefined\") {require([\"nbextensions/vpython_libraries/glowcomm\"], function(){console.log(\"GLOWCOMM LOADED\");});}else{element.textContent = ' ';}"
      ],
      "text/plain": [
       "<IPython.core.display.Javascript object>"
      ]
     },
     "metadata": {},
     "output_type": "display_data"
    },
    {
     "data": {
      "application/javascript": [
       "if (typeof Jupyter !== \"undefined\") {require([\"nbextensions/vpython_libraries/jquery-ui.custom.min\"], function(){console.log(\"JQUERY LOADED\");});}else{element.textContent = ' ';}"
      ],
      "text/plain": [
       "<IPython.core.display.Javascript object>"
      ]
     },
     "metadata": {},
     "output_type": "display_data"
    },
    {
     "name": "stdout",
     "output_type": "stream",
     "text": [
      "=== Starting Simulation ===\n",
      "[0ns] Net 'A' (ID 0) = 0\n",
      "[0ns] Net 'B' (ID 1) = 0\n",
      "[7ns] Net 'C' (ID 2) = 1\n",
      "[10ns] Net 'A' (ID 0) = 0\n",
      "[10ns] Net 'B' (ID 1) = 1\n",
      "[20ns] Net 'B' (ID 1) = 0\n",
      "[20ns] Net 'A' (ID 0) = 1\n",
      "[30ns] Net 'B' (ID 1) = 1\n",
      "[30ns] Net 'A' (ID 0) = 1\n",
      "[37ns] Net 'C' (ID 2) = 0\n",
      "=== Simulation Complete ===\n"
     ]
    }
   ],
   "source": [
    "scene = canvas()\n",
    "graph_scene = graph(title=\"Signal Graph\", xtitle=\"Time (ns)\", ytitle=\"Value\")\n",
    "A_curve = gcurve(color=color.red, label=\"A\",visible=True)\n",
    "B_curve = gcurve(color=color.green, label=\"B\",visible=True)\n",
    "C_curve = gcurve(color=color.blue, label=\"C\",visible=True)\n",
    "\n",
    "sim = Simulator()\n",
    "\n",
    "# Define nets\n",
    "A = Net(\"A\")\n",
    "B = Net(\"B\")\n",
    "C = Net(\"C\")  # Output of G1\n",
    "\n",
    "# Define gates\n",
    "G1 = Gate([A, B], C, nand, delay=7, name=\"NAND1\")\n",
    "\n",
    "# A B NAND\n",
    "# 0 0 1\n",
    "# 0 1 1\n",
    "# 1 0 1\n",
    "# 1 1 0\n",
    "\n",
    "# Set input values at time 0\n",
    "A.set(0, 0, sim)\n",
    "B.set(0, 0, sim)\n",
    "\n",
    "A.set(0, 10, sim)\n",
    "B.set(1, 10, sim)\n",
    "\n",
    "A.set(1, 20, sim)\n",
    "B.set(0, 20, sim)\n",
    "\n",
    "A.set(1, 30, sim)\n",
    "B.set(1, 30, sim)\n",
    "\n",
    "# Run simulation\n",
    "sim.run()"
   ]
  },
  {
   "cell_type": "markdown",
   "id": "d58f027a-07e3-479a-bd1e-96b8dfefd06c",
   "metadata": {},
   "source": [
    "### Results"
   ]
  },
  {
   "cell_type": "markdown",
   "id": "944d9881-2f3f-4139-9d63-eb2f3f0d4cc7",
   "metadata": {},
   "source": [
    "The logic gate's value does not get added to the queue unless it changes. Using the truth table, we can see that the NAND gate will be 1 for all A and B except for when A and B are 1 and 1. Therefore, Net C first changes to 1 at 7ns after the delay, and does not change until 0 at 37ns.\n",
    "\n",
    "We can see that using all possibl combinations for the NAND gate input we get the proper outputs."
   ]
  },
  {
   "cell_type": "markdown",
   "id": "db9730db-6d15-434e-b18a-052b668704df",
   "metadata": {},
   "source": [
    "### Assumptions"
   ]
  },
  {
   "cell_type": "markdown",
   "id": "2ae153e8-dcb7-4ed5-b7b6-574672d5e5c0",
   "metadata": {},
   "source": [
    "7 nanosecond delay in a NAND gate: https://pages.hep.wisc.edu/~prepost/623/digital1_2.html#:~:text=Level%20~%201.4%20V.-,The%20delay%20in%20passing%20a%20signal%20through%20one%20NAND%20gate,speed%20and%20input%20power%20required."
   ]
  },
  {
   "cell_type": "code",
   "execution_count": 10,
   "id": "b5e5cf34-395d-446a-8f54-829308f9be38",
   "metadata": {},
   "outputs": [],
   "source": [
    "def update_graph():\n",
    "    if A.value != 'X':\n",
    "        A_curve.plot(sim.time, int(A.value))  # Convert to int if needed\n",
    "    if B.value != 'X':\n",
    "        B_curve.plot(sim.time, int(B.value))\n",
    "    if C.value != 'X':\n",
    "        C_curve.plot(sim.time, int(C.value))\n",
    "    if D.value != 'X':\n",
    "        D_curve.plot(sim.time, int(D.value))\n",
    "    if OUT.value != 'X':\n",
    "        OUT_curve.plot(sim.time, int(OUT.value))"
   ]
  },
  {
   "cell_type": "code",
   "execution_count": 11,
   "id": "581262d3-a1e2-477e-90ef-5415cdf00cbe",
   "metadata": {},
   "outputs": [
    {
     "data": {
      "text/html": [
       "<div id=\"glowscript\" class=\"glowscript\"></div>"
      ],
      "text/plain": [
       "<IPython.core.display.HTML object>"
      ]
     },
     "metadata": {},
     "output_type": "display_data"
    },
    {
     "data": {
      "application/javascript": [
       "if (typeof Jupyter !== \"undefined\") { window.__context = { glowscript_container: $(\"#glowscript\").removeAttr(\"id\")};}else{ element.textContent = ' ';}"
      ],
      "text/plain": [
       "<IPython.core.display.Javascript object>"
      ]
     },
     "metadata": {},
     "output_type": "display_data"
    },
    {
     "name": "stdout",
     "output_type": "stream",
     "text": [
      "=== Starting Simulation ===\n",
      "[0ns] Net 'A' (ID 3) = 0\n",
      "[0ns] Net 'B' (ID 4) = 0\n",
      "[7ns] Net 'C' (ID 5) = 1\n",
      "[14ns] Net 'D' (ID 6) = 1\n",
      "[15ns] Net 'A' (ID 3) = 0\n",
      "[15ns] Net 'B' (ID 4) = 1\n",
      "[21ns] Net 'OUT' (ID 7) = 1\n",
      "[22ns] Net 'OUT' (ID 7) = 0\n",
      "[30ns] Net 'A' (ID 3) = 1\n",
      "[30ns] Net 'B' (ID 4) = 0\n",
      "[37ns] Net 'D' (ID 6) = 0\n",
      "[37ns] Net 'C' (ID 5) = 0\n",
      "[37ns] Net 'OUT' (ID 7) = 1\n",
      "[44ns] Net 'OUT' (ID 7) = 1\n",
      "[44ns] Net 'D' (ID 6) = 1\n",
      "[45ns] Net 'B' (ID 4) = 1\n",
      "[45ns] Net 'A' (ID 3) = 1\n",
      "[52ns] Net 'OUT' (ID 7) = 0\n",
      "=== Simulation Complete ===\n"
     ]
    }
   ],
   "source": [
    "scene = canvas()\n",
    "graph_scene = graph(title=\"Signal Graph\", xtitle=\"Time (ns)\", ytitle=\"Value\")\n",
    "A_curve = gcurve(color=color.red, label=\"A\",visible=True)\n",
    "B_curve = gcurve(color=color.green, label=\"B\",visible=True)\n",
    "C_curve = gcurve(color=color.blue, label=\"C\",visible=True)\n",
    "D_curve = gcurve(color=color.orange, label=\"D\",visible=True)\n",
    "OUT_curve = gcurve(color=color.magenta, label=\"OUT\",visible=True)\n",
    "\n",
    "sim = Simulator()\n",
    "\n",
    "A = Net(\"A\")\n",
    "B = Net(\"B\")\n",
    "C = Net(\"C\")     # G1 output\n",
    "D = Net(\"D\")     # G2 output\n",
    "OUT = Net(\"OUT\") # G3 output (E)\n",
    "\n",
    "G1 = Gate([A, B], C, nand, delay=7, name=\"G1\")\n",
    "G2 = Gate([A, C], D, nand, delay=7, name=\"G2\")\n",
    "G3 = Gate([B, D], OUT, nand, delay=7, name=\"G3\")\n",
    "\n",
    "# A=0, B=0 → expect C=1, D=1, OUT=1\n",
    "# A=0, B=1 → expect C=1, D=1, OUT=0\n",
    "# A=1, B=0 → expect C=1, D=0, OUT=1\n",
    "# A=1, B=1 → expect C=0, D=1, OUT=0\n",
    "\n",
    "A.set(0, 0, sim)\n",
    "B.set(0, 0, sim)\n",
    "\n",
    "A.set(0, 15, sim)\n",
    "B.set(1, 15, sim)\n",
    "\n",
    "A.set(1, 30, sim)\n",
    "B.set(0, 30, sim)\n",
    "\n",
    "A.set(1, 45, sim)\n",
    "B.set(1, 45, sim)\n",
    "\n",
    "sim.run()"
   ]
  },
  {
   "cell_type": "markdown",
   "id": "521e1220-5790-4a1f-b3b5-a107c82ccc65",
   "metadata": {},
   "source": [
    "### Results"
   ]
  },
  {
   "cell_type": "markdown",
   "id": "038fc9cf-c732-4316-939d-abffeb4bc63e",
   "metadata": {},
   "source": [
    "Going through the simulation step by step shows that it is accurate. For example, we start with A and B being 0. This should result in C being 1, D being 1, and E being 1. The delay of one NAND gate is 7 nanoseconds. At 7 nanoseconds, the first NAND gate (C) returns 1. After another 7, the D NAND gate returns 1 as well. After another 7, at 21 nanoseconds, the final gate E/OUT returns 1 as well. The delays in the NAND gates affect how the outputs of the NAND gates appear in the graph and list.\n",
    "\n",
    "The second pair of A and B being 0 and 1 comes before the first circuit has fully finished. The change in B value triggers the OUT gate to be changed to 0 as you can see at 22 nanoseconds, 7 nanoseconds after the B net is changed at 15 nanoseconds. A change in C and D is not seen in the graph or list because their values remain.\n",
    "\n",
    "Going through the rest of the list continuously verifies the results"
   ]
  },
  {
   "cell_type": "markdown",
   "id": "d82e2ca0-f9ad-4868-8430-7b60c6ab62a6",
   "metadata": {},
   "source": [
    "## NOR Gate"
   ]
  },
  {
   "cell_type": "code",
   "execution_count": 12,
   "id": "c49ab9e9-8bd3-46d7-b97a-f3784d60a072",
   "metadata": {},
   "outputs": [],
   "source": [
    "def update_graph():\n",
    "    if A.value != 'X':\n",
    "        A_curve.plot(sim.time, int(A.value))  # Convert to int if needed\n",
    "    if B.value != 'X':\n",
    "        B_curve.plot(sim.time, int(B.value))\n",
    "    if C.value != 'X':\n",
    "        C_curve.plot(sim.time, int(C.value))"
   ]
  },
  {
   "cell_type": "code",
   "execution_count": 14,
   "id": "ff22c90e-e054-484a-ae74-526bb7cb24e8",
   "metadata": {},
   "outputs": [
    {
     "data": {
      "text/html": [
       "<div id=\"glowscript\" class=\"glowscript\"></div>"
      ],
      "text/plain": [
       "<IPython.core.display.HTML object>"
      ]
     },
     "metadata": {},
     "output_type": "display_data"
    },
    {
     "data": {
      "application/javascript": [
       "if (typeof Jupyter !== \"undefined\") { window.__context = { glowscript_container: $(\"#glowscript\").removeAttr(\"id\")};}else{ element.textContent = ' ';}"
      ],
      "text/plain": [
       "<IPython.core.display.Javascript object>"
      ]
     },
     "metadata": {},
     "output_type": "display_data"
    },
    {
     "name": "stdout",
     "output_type": "stream",
     "text": [
      "=== Starting Simulation ===\n",
      "[0ns] Net 'A' (ID 11) = 0\n",
      "[0ns] Net 'B' (ID 12) = 0\n",
      "[10ns] Net 'A' (ID 11) = 0\n",
      "[10ns] Net 'B' (ID 12) = 1\n",
      "[15ns] Net 'C' (ID 13) = 1\n",
      "[20ns] Net 'A' (ID 11) = 1\n",
      "[20ns] Net 'B' (ID 12) = 0\n",
      "[25ns] Net 'C' (ID 13) = 0\n",
      "[30ns] Net 'B' (ID 12) = 1\n",
      "[30ns] Net 'A' (ID 11) = 1\n",
      "[35ns] Net 'C' (ID 13) = 0\n",
      "[35ns] Net 'C' (ID 13) = 0\n",
      "=== Simulation Complete ===\n"
     ]
    }
   ],
   "source": [
    "scene = canvas()\n",
    "graph_scene = graph(title=\"Signal Graph\", xtitle=\"Time (ns)\", ytitle=\"Value\")\n",
    "A_curve = gcurve(color=color.red, label=\"A\",visible=True)\n",
    "B_curve = gcurve(color=color.green, label=\"B\",visible=True)\n",
    "C_curve = gcurve(color=color.blue, label=\"C\",visible=True)\n",
    "\n",
    "sim = Simulator()\n",
    "\n",
    "# Define nets\n",
    "A = Net(\"A\")\n",
    "B = Net(\"B\")\n",
    "C = Net(\"C\")  # Output of G1\n",
    "\n",
    "# Define gates\n",
    "G1 = Gate([A, B], C, nor, delay=15, name=\"nor1\")\n",
    "\n",
    "# A B NAND\n",
    "# 0 0 1\n",
    "# 0 1 0\n",
    "# 1 0 0\n",
    "# 1 1 0\n",
    "\n",
    "# Set input values at time 0\n",
    "A.set(0, 0, sim)\n",
    "B.set(0, 0, sim)\n",
    "\n",
    "A.set(0, 10, sim)\n",
    "B.set(1, 10, sim)\n",
    "\n",
    "A.set(1, 20, sim)\n",
    "B.set(0, 20, sim)\n",
    "\n",
    "A.set(1, 30, sim)\n",
    "B.set(1, 30, sim)\n",
    "\n",
    "# Run simulation\n",
    "sim.run()"
   ]
  },
  {
   "cell_type": "markdown",
   "id": "3f5af372-c29a-4089-9d71-8bc268bc52e8",
   "metadata": {},
   "source": [
    "### Results"
   ]
  },
  {
   "cell_type": "markdown",
   "id": "d0e3a474-963b-44b3-9620-4c271c5e2d70",
   "metadata": {},
   "source": [
    "Inputting A and B as 0 into a NOR gate will return 1. After 15 nanoseconds, the C gate becomes 1. The NOR logic follows for the rest of the inputs, as the rest of the C gates should be 0."
   ]
  },
  {
   "cell_type": "markdown",
   "id": "01dc7fb6-3998-4928-8a3a-fddacfa4ec33",
   "metadata": {},
   "source": [
    "### Assumptions"
   ]
  },
  {
   "cell_type": "markdown",
   "id": "b327d08f-54aa-41a0-9fe0-639b943dd64c",
   "metadata": {},
   "source": [
    "15 nanosecond propagation delay: https://www.futurlec.com/74/IC7402.shtml"
   ]
  },
  {
   "cell_type": "code",
   "execution_count": 15,
   "id": "b04b02e5-9fa3-4868-abbb-471fab53f88a",
   "metadata": {},
   "outputs": [],
   "source": [
    "def update_graph():\n",
    "    if A.value != 'X':\n",
    "        A_curve.plot(sim.time, int(A.value))  # Convert to int if needed\n",
    "    if B.value != 'X':\n",
    "        B_curve.plot(sim.time, int(B.value))\n",
    "    if C.value != 'X':\n",
    "        C_curve.plot(sim.time, int(C.value))\n",
    "    if D.value != 'X':\n",
    "        D_curve.plot(sim.time, int(D.value))\n",
    "    if OUT.value != 'X':\n",
    "        OUT_curve.plot(sim.time, int(OUT.value))"
   ]
  },
  {
   "cell_type": "code",
   "execution_count": 17,
   "id": "c1b1db6b-4305-42e9-af19-0724112002a8",
   "metadata": {},
   "outputs": [
    {
     "data": {
      "text/html": [
       "<div id=\"glowscript\" class=\"glowscript\"></div>"
      ],
      "text/plain": [
       "<IPython.core.display.HTML object>"
      ]
     },
     "metadata": {},
     "output_type": "display_data"
    },
    {
     "data": {
      "application/javascript": [
       "if (typeof Jupyter !== \"undefined\") { window.__context = { glowscript_container: $(\"#glowscript\").removeAttr(\"id\")};}else{ element.textContent = ' ';}"
      ],
      "text/plain": [
       "<IPython.core.display.Javascript object>"
      ]
     },
     "metadata": {},
     "output_type": "display_data"
    },
    {
     "name": "stdout",
     "output_type": "stream",
     "text": [
      "=== Starting Simulation ===\n",
      "[0ns] Net 'A' (ID 19) = 0\n",
      "[0ns] Net 'B' (ID 20) = 0\n",
      "[15ns] Net 'C' (ID 21) = 1\n",
      "[30ns] Net 'A' (ID 19) = 0\n",
      "[30ns] Net 'D' (ID 22) = 0\n",
      "[30ns] Net 'B' (ID 20) = 1\n",
      "[45ns] Net 'OUT' (ID 23) = 1\n",
      "[45ns] Net 'OUT' (ID 23) = 0\n",
      "[45ns] Net 'C' (ID 21) = 0\n",
      "[60ns] Net 'B' (ID 20) = 0\n",
      "[60ns] Net 'A' (ID 19) = 1\n",
      "[60ns] Net 'D' (ID 22) = 1\n",
      "[75ns] Net 'C' (ID 21) = 1\n",
      "[75ns] Net 'OUT' (ID 23) = 1\n",
      "[90ns] Net 'A' (ID 19) = 1\n",
      "[90ns] Net 'B' (ID 20) = 1\n",
      "[90ns] Net 'D' (ID 22) = 0\n",
      "[105ns] Net 'OUT' (ID 23) = 0\n",
      "[105ns] Net 'C' (ID 21) = 0\n",
      "[105ns] Net 'OUT' (ID 23) = 0\n",
      "=== Simulation Complete ===\n"
     ]
    }
   ],
   "source": [
    "scene = canvas()\n",
    "graph_scene = graph(title=\"Signal Graph\", xtitle=\"Time (ns)\", ytitle=\"Value\")\n",
    "A_curve = gcurve(color=color.red, label=\"A\",visible=True)\n",
    "B_curve = gcurve(color=color.green, label=\"B\",visible=True)\n",
    "C_curve = gcurve(color=color.blue, label=\"C\",visible=True)\n",
    "D_curve = gcurve(color=color.orange, label=\"D\",visible=True)\n",
    "OUT_curve = gcurve(color=color.magenta, label=\"OUT\",visible=True)\n",
    "\n",
    "sim = Simulator()\n",
    "\n",
    "A = Net(\"A\")\n",
    "B = Net(\"B\")\n",
    "C = Net(\"C\")     # G1 output\n",
    "D = Net(\"D\")     # G2 output\n",
    "OUT = Net(\"OUT\") # G3 output (E)\n",
    "\n",
    "G1 = Gate([A, B], C, nor, delay=15, name=\"G1\")\n",
    "G2 = Gate([A, C], D, nor, delay=15, name=\"G2\")\n",
    "G3 = Gate([B, D], OUT, nor, delay=15, name=\"G3\")\n",
    "\n",
    "# A=0, B=0 → expect C=1, D=0, OUT=1\n",
    "# A=0, B=1 → expect C=0, D=1, OUT=0\n",
    "# A=1, B=0 → expect C=0, D=0, OUT=1\n",
    "# A=1, B=1 → expect C=0, D=0, OUT=0\n",
    "\n",
    "A.set(0, 0, sim)\n",
    "B.set(0, 0, sim)\n",
    "\n",
    "A.set(0, 30, sim)\n",
    "B.set(1, 30, sim)\n",
    "\n",
    "A.set(1, 60, sim)\n",
    "B.set(0, 60, sim)\n",
    "\n",
    "A.set(1, 90, sim)\n",
    "B.set(1, 90, sim)\n",
    "\n",
    "sim.run()"
   ]
  },
  {
   "cell_type": "markdown",
   "id": "a9499132-c95f-45b5-81e2-64d2b980e4a5",
   "metadata": {},
   "source": [
    "### Results"
   ]
  },
  {
   "cell_type": "markdown",
   "id": "d4cbdc13-cd40-4111-96fb-f6945752fc24",
   "metadata": {},
   "source": [
    "Starting off with A and B being 0, C should be 1, D should be 0, and OUT should be 1. At 15 nanoseconds C becomes 1. At 30 nanoseconds D becomes 0, and at 45 nanoseconds OUT becomes 1. This logic follows correctly as each gate delay is 15 nanoseconds. At 30 nanoseconds, B becomes 1. This triggers OUT to become 0 at 45 nanoseconds. At the same time, C becomes 0. Following the order of events with the gate delays shows that the logic works correctly.\n"
   ]
  },
  {
   "cell_type": "markdown",
   "id": "8a22cbd6-19fa-4f23-9a77-0a9e803e1a27",
   "metadata": {},
   "source": [
    "## NAND Gate D-Latch"
   ]
  },
  {
   "cell_type": "code",
   "execution_count": 25,
   "id": "7575d677-b812-4b67-81cf-58a59a44576f",
   "metadata": {},
   "outputs": [],
   "source": [
    "def update_graph():\n",
    "    if D.value != 'X':\n",
    "        D_curve.plot(sim.time, int(D.value))  # Convert to int if needed\n",
    "    if EN.value != 'X':\n",
    "        EN_curve.plot(sim.time, int(EN.value))\n",
    "    if Dbar.value != 'X':\n",
    "        Dbar_curve.plot(sim.time, int(Dbar.value))\n",
    "    if S.value != 'X':\n",
    "        S_curve.plot(sim.time, int(S.value))\n",
    "    if R.value != 'X':\n",
    "        R_curve.plot(sim.time, int(R.value))\n",
    "    if Q.value != 'X':\n",
    "        Q_curve.plot(sim.time, int(Q.value))\n",
    "    if Qbar.value != 'X':\n",
    "        Qbar_curve.plot(sim.time, int(Qbar.value))"
   ]
  },
  {
   "cell_type": "code",
   "execution_count": 39,
   "id": "710e1005-1b35-4b66-b601-6becaea1aa5f",
   "metadata": {},
   "outputs": [
    {
     "data": {
      "text/html": [
       "<div id=\"glowscript\" class=\"glowscript\"></div>"
      ],
      "text/plain": [
       "<IPython.core.display.HTML object>"
      ]
     },
     "metadata": {},
     "output_type": "display_data"
    },
    {
     "data": {
      "application/javascript": [
       "if (typeof Jupyter !== \"undefined\") { window.__context = { glowscript_container: $(\"#glowscript\").removeAttr(\"id\")};}else{ element.textContent = ' ';}"
      ],
      "text/plain": [
       "<IPython.core.display.Javascript object>"
      ]
     },
     "metadata": {},
     "output_type": "display_data"
    },
    {
     "name": "stdout",
     "output_type": "stream",
     "text": [
      "=== Starting Simulation ===\n",
      "[0ns] Net 'Q' (ID 147) = 0\n",
      "[0ns] Net 'EN' (ID 143) = 0\n",
      "[0ns] Net 'D' (ID 142) = 0\n",
      "[0ns] Net 'Dbar' (ID 144) = 1\n",
      "[7ns] Net 'Dbar' (ID 144) = 1\n",
      "[7ns] Net 'R' (ID 146) = 1\n",
      "[7ns] Net 'S' (ID 145) = 1\n",
      "[10ns] Net 'D' (ID 142) = 1\n",
      "[10ns] Net 'EN' (ID 143) = 1\n",
      "[14ns] Net 'Qbar' (ID 148) = 1\n",
      "[14ns] Net 'Q' (ID 147) = X\n",
      "[17ns] Net 'Dbar' (ID 144) = 0\n",
      "[17ns] Net 'S' (ID 145) = 0\n",
      "[17ns] Net 'R' (ID 146) = 0\n",
      "[20ns] Net 'EN' (ID 143) = 0\n",
      "[21ns] Net 'Qbar' (ID 148) = X\n",
      "[24ns] Net 'Q' (ID 147) = 1\n",
      "[24ns] Net 'Qbar' (ID 148) = X\n",
      "[27ns] Net 'S' (ID 145) = 1\n",
      "[27ns] Net 'R' (ID 146) = 1\n",
      "[30ns] Net 'D' (ID 142) = 0\n",
      "[31ns] Net 'Qbar' (ID 148) = 1\n",
      "[34ns] Net 'Qbar' (ID 148) = 0\n",
      "[34ns] Net 'Q' (ID 147) = X\n",
      "[37ns] Net 'Dbar' (ID 144) = 1\n",
      "[38ns] Net 'Q' (ID 147) = 0\n",
      "[40ns] Net 'EN' (ID 143) = 1\n",
      "[41ns] Net 'Qbar' (ID 148) = X\n",
      "[45ns] Net 'Qbar' (ID 148) = 1\n",
      "[48ns] Net 'Q' (ID 147) = X\n",
      "[50ns] Net 'EN' (ID 143) = 0\n",
      "[55ns] Net 'Qbar' (ID 148) = X\n",
      "=== Simulation Complete ===\n"
     ]
    }
   ],
   "source": [
    "scene = canvas()\n",
    "graph_scene = graph(title=\"Signal Graph\", xtitle=\"Time (ns)\", ytitle=\"Value\")\n",
    "Dbar_curve = gcurve(color=color.red, label=\"Dbar\",visible=True)\n",
    "D_curve = gcurve(color=color.green, label=\"D\",visible=True)\n",
    "S_curve = gcurve(color=color.blue, label=\"S\",visible=True)\n",
    "R_curve = gcurve(color=color.orange, label=\"R\",visible=True)\n",
    "Qbar_curve = gcurve(color=color.cyan, label=\"Qbar\",visible=True)\n",
    "Q_curve = gcurve(color=color.magenta, label=\"Q\",visible=True)\n",
    "EN_curve = gcurve(color=color.yellow, label=\"EN\",visible=True)\n",
    "\n",
    "sim = Simulator()\n",
    "\n",
    "D = Net(\"D\")\n",
    "EN = Net(\"EN\")\n",
    "Dbar = Net(\"Dbar\")\n",
    "S = Net(\"S\")\n",
    "R = Net(\"R\")\n",
    "Q = Net(\"Q\")\n",
    "Qbar = Net(\"Qbar\")\n",
    "\n",
    "INV_D = Gate([D, D], Dbar, nand, delay=7, name=\"INV_D\")\n",
    "G1 = Gate([D, EN], S, nand, delay=7, name=\"G1\")\n",
    "G2 = Gate([D, EN], R, nand, delay=7, name=\"G2\")\n",
    "G3 = Gate([S, Qbar], Q, nand, delay=7, name=\"G3\")\n",
    "G4 = Gate([R, Q], Qbar, nand, delay=7, name=\"G4\")\n",
    "\n",
    "\n",
    "# Initial state: EN = 0 \n",
    "Q.set(0,0,sim)\n",
    "D.set(0, 0, sim)\n",
    "EN.set(0, 0, sim)\n",
    "Dbar.set(1,0,sim)\n",
    "\n",
    "# Enable and set D = 1\n",
    "EN.set(1, 10, sim)\n",
    "D.set(1, 10, sim)\n",
    "\n",
    "# Disable latch \n",
    "EN.set(0, 20, sim)\n",
    "\n",
    "# Change D to 0 \n",
    "D.set(0, 30, sim)\n",
    "\n",
    "# Re-enable and set D = 0 \n",
    "EN.set(1, 40, sim)\n",
    "\n",
    "# Finish\n",
    "EN.set(0, 50, sim)\n",
    "\n",
    "sim.run()\n"
   ]
  },
  {
   "cell_type": "markdown",
   "id": "efe59f11-167a-42b4-a038-177446f64fcd",
   "metadata": {},
   "source": [
    "### Results"
   ]
  },
  {
   "cell_type": "markdown",
   "id": "e6854f41-8e33-4206-8c27-ced46a61b4bd",
   "metadata": {},
   "source": [
    "At 0 nanoseconds, the enable is set to 0 which means that the latch is disabled and the state is held. Since D is 0, Dbar is 1.At 7 nanoseconds, R and S become 1. After another delay, at 14 nanoseconds Qbar becomes 1 which follows the logic correctly. At 10 nanoseconds, the enable is set to 1 meaning that the latch is now enabled. Since D is 1, Q and Qbar should be set to 1 and 0. Because of the NAND gate delays, these changes aren't seen until 24 nanoseconds. Tracking the nanoseconds and gate delays for the rest of the values verifies the logic of the NAND D-latch.\n",
    "\n",
    "The simulation is stopped by setting the enable back to 0 at 50 nanoseconds."
   ]
  },
  {
   "cell_type": "markdown",
   "id": "64a44d1b-a13f-4048-9fba-117a9e2b3b7c",
   "metadata": {},
   "source": [
    "## Combinational VS Sequential"
   ]
  },
  {
   "cell_type": "markdown",
   "id": "f7a75ce6-5f4a-428c-bdd0-12a5ba6f4d02",
   "metadata": {},
   "source": [
    "Combinational circuits are far easier to track as their states show immediate results after any state changes. This also makes them far easier to debug because they are so easily traceable. Sequential circuits are more complicated to trace and since there are feedback loops there are a lot of undefined states/\"X\" which can be intimidated and make the circuit appear as if it is not working. This also makes it harder to debug. Any state changes in the circuit have large ripple affects that change the rest of the circuit."
   ]
  },
  {
   "cell_type": "code",
   "execution_count": null,
   "id": "bf4b4433-e6d8-425c-87a0-0b135c76fd57",
   "metadata": {},
   "outputs": [],
   "source": []
  }
 ],
 "metadata": {
  "kernelspec": {
   "display_name": "Python 3 (ipykernel)",
   "language": "python",
   "name": "python3"
  },
  "language_info": {
   "codemirror_mode": {
    "name": "ipython",
    "version": 3
   },
   "file_extension": ".py",
   "mimetype": "text/x-python",
   "name": "python",
   "nbconvert_exporter": "python",
   "pygments_lexer": "ipython3",
   "version": "3.10.16"
  }
 },
 "nbformat": 4,
 "nbformat_minor": 5
}
