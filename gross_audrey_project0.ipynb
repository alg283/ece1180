{
 "cells": [
  {
   "cell_type": "code",
   "execution_count": 1,
   "id": "ecc724cf-088e-430f-a573-c29406665b8c",
   "metadata": {},
   "outputs": [
    {
     "data": {
      "text/html": [
       "<div id=\"glowscript\" class=\"glowscript\"></div>"
      ],
      "text/plain": [
       "<IPython.core.display.HTML object>"
      ]
     },
     "metadata": {},
     "output_type": "display_data"
    },
    {
     "data": {
      "application/javascript": [
       "if (typeof Jupyter !== \"undefined\") { window.__context = { glowscript_container: $(\"#glowscript\").removeAttr(\"id\")};}else{ element.textContent = ' ';}"
      ],
      "text/plain": [
       "<IPython.core.display.Javascript object>"
      ]
     },
     "metadata": {},
     "output_type": "display_data"
    }
   ],
   "source": [
    "from vpython import *\n",
    "scene.autoscale = False"
   ]
  },
  {
   "cell_type": "code",
   "execution_count": 2,
   "id": "ef08382a-3249-4f73-aa0f-5203e903a9b4",
   "metadata": {},
   "outputs": [
    {
     "data": {
      "text/html": [
       "<div id=\"glowscript\" class=\"glowscript\"></div>"
      ],
      "text/plain": [
       "<IPython.core.display.HTML object>"
      ]
     },
     "metadata": {},
     "output_type": "display_data"
    },
    {
     "data": {
      "application/javascript": [
       "if (typeof Jupyter !== \"undefined\") { window.__context = { glowscript_container: $(\"#glowscript\").removeAttr(\"id\")};}else{ element.textContent = ' ';}"
      ],
      "text/plain": [
       "<IPython.core.display.Javascript object>"
      ]
     },
     "metadata": {},
     "output_type": "display_data"
    }
   ],
   "source": [
    "scene = canvas()"
   ]
  },
  {
   "cell_type": "markdown",
   "id": "b5006ac6-c6ba-4238-af33-6548eebff06e",
   "metadata": {},
   "source": [
    "this section makes the box and the ball"
   ]
  },
  {
   "cell_type": "code",
   "execution_count": 3,
   "id": "fc132a7a-e1c0-49ae-90a8-fd1e04e5072e",
   "metadata": {},
   "outputs": [
    {
     "data": {
      "application/javascript": [
       "if (typeof Jupyter !== \"undefined\") {require.undef(\"nbextensions/vpython_libraries/glow.min\");}else{element.textContent = ' ';}"
      ],
      "text/plain": [
       "<IPython.core.display.Javascript object>"
      ]
     },
     "metadata": {},
     "output_type": "display_data"
    },
    {
     "data": {
      "application/javascript": [
       "if (typeof Jupyter !== \"undefined\") {require.undef(\"nbextensions/vpython_libraries/glowcomm\");}else{element.textContent = ' ';}"
      ],
      "text/plain": [
       "<IPython.core.display.Javascript object>"
      ]
     },
     "metadata": {},
     "output_type": "display_data"
    },
    {
     "data": {
      "application/javascript": [
       "if (typeof Jupyter !== \"undefined\") {require.undef(\"nbextensions/vpython_libraries/jquery-ui.custom.min\");}else{element.textContent = ' ';}"
      ],
      "text/plain": [
       "<IPython.core.display.Javascript object>"
      ]
     },
     "metadata": {},
     "output_type": "display_data"
    },
    {
     "data": {
      "application/javascript": [
       "if (typeof Jupyter !== \"undefined\") {require([\"nbextensions/vpython_libraries/glow.min\"], function(){console.log(\"GLOW LOADED\");});}else{element.textContent = ' ';}"
      ],
      "text/plain": [
       "<IPython.core.display.Javascript object>"
      ]
     },
     "metadata": {},
     "output_type": "display_data"
    },
    {
     "data": {
      "application/javascript": [
       "if (typeof Jupyter !== \"undefined\") {require([\"nbextensions/vpython_libraries/glowcomm\"], function(){console.log(\"GLOWCOMM LOADED\");});}else{element.textContent = ' ';}"
      ],
      "text/plain": [
       "<IPython.core.display.Javascript object>"
      ]
     },
     "metadata": {},
     "output_type": "display_data"
    },
    {
     "data": {
      "application/javascript": [
       "if (typeof Jupyter !== \"undefined\") {require([\"nbextensions/vpython_libraries/jquery-ui.custom.min\"], function(){console.log(\"JQUERY LOADED\");});}else{element.textContent = ' ';}"
      ],
      "text/plain": [
       "<IPython.core.display.Javascript object>"
      ]
     },
     "metadata": {},
     "output_type": "display_data"
    }
   ],
   "source": [
    "ball = sphere(pos=vector(-5,0,0), radius=0.5, color=color.cyan, make_trail=True)\n",
    "wallR = box(pos=vector(6,0,0), size=vector(0.2,12,12), color=color.green)\n",
    "wallL = box(pos=vector(-7,0,0), size=vector(0.2,12,12), color=color.green)\n",
    "wallT = box(pos=vector(-0.5,6,0), size=vector(13,0.2,12), color=color.green)\n",
    "wallB = box(pos=vector(-0.5,-6,0), size=vector(13,0.2,12), color=color.green)\n",
    "wallN  = box(pos=vector(-0.5,0,-6), size=vector(13,12,0.2), color=color.green)\n",
    "wallF  = box(pos=vector(-0.5,0,6), size=vector(13,12,0.2), visible=False)"
   ]
  },
  {
   "cell_type": "markdown",
   "id": "482d7ea8-d87b-40ba-a8e1-6e9ae532ca1a",
   "metadata": {},
   "source": [
    "this section creates the velocity/physics for the ball"
   ]
  },
  {
   "cell_type": "code",
   "execution_count": 4,
   "id": "4d8e39a8-caf3-49a7-aebd-6997df44ca8f",
   "metadata": {},
   "outputs": [],
   "source": [
    "ball.velocity = vector(25,5,15)\n",
    "deltat = 0.005\n",
    "t = 0\n",
    "ball.pos = ball.pos + ball.velocity*deltat\n",
    "vscale = 0.1\n",
    "varr = arrow(pos=ball.pos, axis=vscale*ball.velocity, color=color.yellow)"
   ]
  },
  {
   "cell_type": "markdown",
   "id": "e115ac6e-9a27-408a-a49b-27c7c1361d63",
   "metadata": {},
   "source": [
    "this loop checks that the ball remains in the box and changes the velocity accordingly"
   ]
  },
  {
   "cell_type": "code",
   "execution_count": 5,
   "id": "ec7602f9-83bf-473b-a229-3f6b4f2435af",
   "metadata": {},
   "outputs": [
    {
     "ename": "KeyboardInterrupt",
     "evalue": "",
     "output_type": "error",
     "traceback": [
      "\u001b[1;31m---------------------------------------------------------------------------\u001b[0m",
      "\u001b[1;31mKeyboardInterrupt\u001b[0m                         Traceback (most recent call last)",
      "Cell \u001b[1;32mIn[5], line 2\u001b[0m\n\u001b[0;32m      1\u001b[0m \u001b[38;5;28;01mwhile\u001b[39;00m \u001b[38;5;28;01mTrue\u001b[39;00m:\n\u001b[1;32m----> 2\u001b[0m     \u001b[43mrate\u001b[49m\u001b[43m(\u001b[49m\u001b[38;5;241;43m100\u001b[39;49m\u001b[43m)\u001b[49m\n\u001b[0;32m      3\u001b[0m     \u001b[38;5;28;01mif\u001b[39;00m ball\u001b[38;5;241m.\u001b[39mpos\u001b[38;5;241m.\u001b[39mx \u001b[38;5;241m>\u001b[39m wallR\u001b[38;5;241m.\u001b[39mpos\u001b[38;5;241m.\u001b[39mx:\n\u001b[0;32m      4\u001b[0m         ball\u001b[38;5;241m.\u001b[39mvelocity\u001b[38;5;241m.\u001b[39mx \u001b[38;5;241m=\u001b[39m \u001b[38;5;241m-\u001b[39mball\u001b[38;5;241m.\u001b[39mvelocity\u001b[38;5;241m.\u001b[39mx\n",
      "File \u001b[1;32m~\\.conda\\envs\\CompModel2\\lib\\site-packages\\vpython\\rate_control.py:266\u001b[0m, in \u001b[0;36m_RateKeeper2.__call__\u001b[1;34m(self, N)\u001b[0m\n\u001b[0;32m    264\u001b[0m \u001b[38;5;28mself\u001b[39m\u001b[38;5;241m.\u001b[39mrval \u001b[38;5;241m=\u001b[39m N\n\u001b[0;32m    265\u001b[0m \u001b[38;5;28;01mif\u001b[39;00m \u001b[38;5;28mself\u001b[39m\u001b[38;5;241m.\u001b[39mrval \u001b[38;5;241m<\u001b[39m \u001b[38;5;241m1\u001b[39m: \u001b[38;5;28;01mraise\u001b[39;00m \u001b[38;5;167;01mValueError\u001b[39;00m(\u001b[38;5;124m\"\u001b[39m\u001b[38;5;124mrate value must be greater than or equal to 1\u001b[39m\u001b[38;5;124m\"\u001b[39m)\n\u001b[1;32m--> 266\u001b[0m \u001b[38;5;28;43msuper\u001b[39;49m\u001b[43m(\u001b[49m\u001b[43m_RateKeeper2\u001b[49m\u001b[43m,\u001b[49m\u001b[43m \u001b[49m\u001b[38;5;28;43mself\u001b[39;49m\u001b[43m)\u001b[49m\u001b[38;5;241;43m.\u001b[39;49m\u001b[38;5;21;43m__call__\u001b[39;49m\u001b[43m(\u001b[49m\u001b[38;5;28;43mself\u001b[39;49m\u001b[38;5;241;43m.\u001b[39;49m\u001b[43mrval\u001b[49m\u001b[43m)\u001b[49m\n",
      "File \u001b[1;32m~\\.conda\\envs\\CompModel2\\lib\\site-packages\\vpython\\rate_control.py:220\u001b[0m, in \u001b[0;36mRateKeeper.__call__\u001b[1;34m(self, maxRate)\u001b[0m\n\u001b[0;32m    217\u001b[0m \u001b[38;5;66;03m# Determine how much time is left before the next predicted call to rate:\u001b[39;00m\n\u001b[0;32m    218\u001b[0m dt \u001b[38;5;241m=\u001b[39m \u001b[38;5;28mself\u001b[39m\u001b[38;5;241m.\u001b[39mlastSleep \u001b[38;5;241m+\u001b[39m \u001b[38;5;28mself\u001b[39m\u001b[38;5;241m.\u001b[39mcalls\u001b[38;5;241m*\u001b[39m(\u001b[38;5;28mself\u001b[39m\u001b[38;5;241m.\u001b[39muserTime \u001b[38;5;241m+\u001b[39m \u001b[38;5;28mself\u001b[39m\u001b[38;5;241m.\u001b[39mcallTime \u001b[38;5;241m+\u001b[39m \u001b[38;5;28mself\u001b[39m\u001b[38;5;241m.\u001b[39mdelay) \u001b[38;5;241m+\u001b[39m \\\n\u001b[0;32m    219\u001b[0m      renders\u001b[38;5;241m*\u001b[39m\u001b[38;5;28mself\u001b[39m\u001b[38;5;241m.\u001b[39mrenderTime \u001b[38;5;241m+\u001b[39m sleeps\u001b[38;5;241m*\u001b[39m\u001b[38;5;28mself\u001b[39m\u001b[38;5;241m.\u001b[39minteractionPeriod \u001b[38;5;241m-\u001b[39m _clock()\n\u001b[1;32m--> 220\u001b[0m \u001b[43m_sleep\u001b[49m\u001b[43m(\u001b[49m\u001b[43mdt\u001b[49m\u001b[43m)\u001b[49m\n\u001b[0;32m    221\u001b[0m \u001b[38;5;28mself\u001b[39m\u001b[38;5;241m.\u001b[39mlastSleep \u001b[38;5;241m=\u001b[39m _clock()\n\u001b[0;32m    222\u001b[0m \u001b[38;5;28mself\u001b[39m\u001b[38;5;241m.\u001b[39mcalls \u001b[38;5;241m=\u001b[39m \u001b[38;5;241m0\u001b[39m\n",
      "File \u001b[1;32m~\\.conda\\envs\\CompModel2\\lib\\site-packages\\vpython\\rate_control.py:62\u001b[0m, in \u001b[0;36m_sleep\u001b[1;34m(dt)\u001b[0m\n\u001b[0;32m     60\u001b[0m dtsleep \u001b[38;5;241m=\u001b[39m nticks\u001b[38;5;241m*\u001b[39m_tick\n\u001b[0;32m     61\u001b[0m t \u001b[38;5;241m=\u001b[39m _clock()\n\u001b[1;32m---> 62\u001b[0m \u001b[43mtime\u001b[49m\u001b[38;5;241;43m.\u001b[39;49m\u001b[43msleep\u001b[49m\u001b[43m(\u001b[49m\u001b[43mdtsleep\u001b[49m\u001b[43m)\u001b[49m\n\u001b[0;32m     63\u001b[0m t \u001b[38;5;241m=\u001b[39m _clock()\u001b[38;5;241m-\u001b[39mt\n\u001b[0;32m     64\u001b[0m dt \u001b[38;5;241m-\u001b[39m\u001b[38;5;241m=\u001b[39m t\n",
      "\u001b[1;31mKeyboardInterrupt\u001b[0m: "
     ]
    }
   ],
   "source": [
    "while True:\n",
    "    rate(100)\n",
    "    if ball.pos.x > wallR.pos.x:\n",
    "        ball.velocity.x = -ball.velocity.x\n",
    "    if ball.pos.x < wallL.pos.x:\n",
    "        ball.velocity.x = -ball.velocity.x\n",
    "    if ball.pos.y > wallT.pos.y:\n",
    "        ball.velocity.y = -ball.velocity.y\n",
    "    if ball.pos.y < wallB.pos.y:\n",
    "        ball.velocity.y = -ball.velocity.y\n",
    "    if ball.pos.z < wallN.pos.z:\n",
    "        ball.velocity.z = -ball.velocity.z\n",
    "    if ball.pos.z > wallF.pos.z:\n",
    "        ball.velocity.z = -ball.velocity.z\n",
    "    ball.pos = ball.pos + ball.velocity*deltat \n",
    "    t = t + deltat\n",
    "    varr.pos = ball.pos\n",
    "    varr.axis = vscale*ball.velocity"
   ]
  },
  {
   "cell_type": "markdown",
   "id": "bfb5e831-4f81-4967-b2a7-4edc8a1a5dae",
   "metadata": {},
   "source": [
    "# Goals"
   ]
  },
  {
   "cell_type": "markdown",
   "id": "0b3d09a6-a5bf-470b-ba68-5fb6d5d1d46f",
   "metadata": {},
   "source": [
    "I have experience in Python, C++/C, MATLAB, and Java. At the end of this class, I want to be able to simulate different systems and experiment with different physical systems. I think it would be interesting to see how physics and coding would intersect in this class. I expect to see a lot of basic physics problems but I would be interested to see more complex systems like simulating water."
   ]
  }
 ],
 "metadata": {
  "kernelspec": {
   "display_name": "Python 3 (ipykernel)",
   "language": "python",
   "name": "python3"
  },
  "language_info": {
   "codemirror_mode": {
    "name": "ipython",
    "version": 3
   },
   "file_extension": ".py",
   "mimetype": "text/x-python",
   "name": "python",
   "nbconvert_exporter": "python",
   "pygments_lexer": "ipython3",
   "version": "3.10.16"
  }
 },
 "nbformat": 4,
 "nbformat_minor": 5
}
