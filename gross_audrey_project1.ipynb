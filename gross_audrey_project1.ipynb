{
 "cells": [
  {
   "cell_type": "markdown",
   "id": "2208acc6-a917-4f7b-bbf8-7b6c7adc23fe",
   "metadata": {},
   "source": [
    "# Ball Falling due To Gravity"
   ]
  },
  {
   "cell_type": "markdown",
   "id": "b8877396-e377-4152-81b1-876653c6ca2b",
   "metadata": {},
   "source": [
    "Time step for all simulations is dt=0.01 because any slower or faster would cause delays in the simulation, or lag that affected the visuals"
   ]
  },
  {
   "cell_type": "code",
   "execution_count": 1,
   "id": "7dd9ecb8-f568-40a0-8296-1069df791cf3",
   "metadata": {},
   "outputs": [
    {
     "data": {
      "text/html": [
       "<div id=\"glowscript\" class=\"glowscript\"></div>"
      ],
      "text/plain": [
       "<IPython.core.display.HTML object>"
      ]
     },
     "metadata": {},
     "output_type": "display_data"
    },
    {
     "data": {
      "application/javascript": [
       "if (typeof Jupyter !== \"undefined\") { window.__context = { glowscript_container: $(\"#glowscript\").removeAttr(\"id\")};}else{ element.textContent = ' ';}"
      ],
      "text/plain": [
       "<IPython.core.display.Javascript object>"
      ]
     },
     "metadata": {},
     "output_type": "display_data"
    }
   ],
   "source": [
    "from vpython import *"
   ]
  },
  {
   "cell_type": "code",
   "execution_count": 2,
   "id": "ec18acc9-084e-4ed4-b93c-a7c4e00851fb",
   "metadata": {},
   "outputs": [],
   "source": [
    "def ballFallingDueToGravity(height):\n",
    "    scene = canvas()\n",
    "    ball = sphere(pos=vec(0,height,0), radius=0.3, color=color.yellow, make_trail = True)\n",
    "    velocity = 0\n",
    "    velocityList = [0]\n",
    "    secondsList = [0]\n",
    "    g = 9.8\n",
    "    dt = 0.01\n",
    "    seconds = 0\n",
    "    maxv = 0\n",
    "    \n",
    "    while ball.pos.y > 0:\n",
    "        rate(100)\n",
    "        seconds = seconds + 1\n",
    "        velocity = velocity - g * dt\n",
    "        \n",
    "        if velocity < maxv:\n",
    "            maxv = velocity\n",
    "            \n",
    "        # decrease position\n",
    "        ball.pos.y = ball.pos.y + velocity * dt\n",
    "        secondsList.append(seconds/100)\n",
    "        velocityList.append(velocity)\n",
    "\n",
    "    print(height,\"m Drop Time: \",seconds/100,\" seconds\")\n",
    "    return secondsList, velocityList, maxv"
   ]
  },
  {
   "cell_type": "code",
   "execution_count": 3,
   "id": "1e40fa97-7cd7-454d-98bc-8e2e8c6249b1",
   "metadata": {
    "scrolled": true
   },
   "outputs": [
    {
     "data": {
      "text/html": [
       "<div id=\"glowscript\" class=\"glowscript\"></div>"
      ],
      "text/plain": [
       "<IPython.core.display.HTML object>"
      ]
     },
     "metadata": {},
     "output_type": "display_data"
    },
    {
     "data": {
      "application/javascript": [
       "if (typeof Jupyter !== \"undefined\") { window.__context = { glowscript_container: $(\"#glowscript\").removeAttr(\"id\")};}else{ element.textContent = ' ';}"
      ],
      "text/plain": [
       "<IPython.core.display.Javascript object>"
      ]
     },
     "metadata": {},
     "output_type": "display_data"
    },
    {
     "data": {
      "application/javascript": [
       "if (typeof Jupyter !== \"undefined\") {require.undef(\"nbextensions/vpython_libraries/glow.min\");}else{element.textContent = ' ';}"
      ],
      "text/plain": [
       "<IPython.core.display.Javascript object>"
      ]
     },
     "metadata": {},
     "output_type": "display_data"
    },
    {
     "data": {
      "application/javascript": [
       "if (typeof Jupyter !== \"undefined\") {require.undef(\"nbextensions/vpython_libraries/glowcomm\");}else{element.textContent = ' ';}"
      ],
      "text/plain": [
       "<IPython.core.display.Javascript object>"
      ]
     },
     "metadata": {},
     "output_type": "display_data"
    },
    {
     "data": {
      "application/javascript": [
       "if (typeof Jupyter !== \"undefined\") {require.undef(\"nbextensions/vpython_libraries/jquery-ui.custom.min\");}else{element.textContent = ' ';}"
      ],
      "text/plain": [
       "<IPython.core.display.Javascript object>"
      ]
     },
     "metadata": {},
     "output_type": "display_data"
    },
    {
     "data": {
      "application/javascript": [
       "if (typeof Jupyter !== \"undefined\") {require([\"nbextensions/vpython_libraries/glow.min\"], function(){console.log(\"GLOW LOADED\");});}else{element.textContent = ' ';}"
      ],
      "text/plain": [
       "<IPython.core.display.Javascript object>"
      ]
     },
     "metadata": {},
     "output_type": "display_data"
    },
    {
     "data": {
      "application/javascript": [
       "if (typeof Jupyter !== \"undefined\") {require([\"nbextensions/vpython_libraries/glowcomm\"], function(){console.log(\"GLOWCOMM LOADED\");});}else{element.textContent = ' ';}"
      ],
      "text/plain": [
       "<IPython.core.display.Javascript object>"
      ]
     },
     "metadata": {},
     "output_type": "display_data"
    },
    {
     "data": {
      "application/javascript": [
       "if (typeof Jupyter !== \"undefined\") {require([\"nbextensions/vpython_libraries/jquery-ui.custom.min\"], function(){console.log(\"JQUERY LOADED\");});}else{element.textContent = ' ';}"
      ],
      "text/plain": [
       "<IPython.core.display.Javascript object>"
      ]
     },
     "metadata": {},
     "output_type": "display_data"
    },
    {
     "name": "stdout",
     "output_type": "stream",
     "text": [
      "100 m Drop Time:  4.52  seconds\n"
     ]
    }
   ],
   "source": [
    "x = ballFallingDueToGravity(100)"
   ]
  },
  {
   "cell_type": "markdown",
   "id": "0529bf6b-5888-4023-98aa-cf4b5457426d",
   "metadata": {},
   "source": [
    "The simulation uses a rate of 100 which means the simulation is refreshed 100 times per second. Therefore the final seconds count needs to be divided by 100 to get the final time."
   ]
  },
  {
   "cell_type": "markdown",
   "id": "0f749558-eb09-4513-a90e-f4fe4fbf11dd",
   "metadata": {},
   "source": [
    "### Calculations"
   ]
  },
  {
   "cell_type": "markdown",
   "id": "64307d19-e980-408d-b199-20b5e8a99968",
   "metadata": {},
   "source": [
    "v = integral(a dt) = a * t\n",
    "x = integral(v dt) = integral(a*t dt) = 0.5*a*t^2\n",
    "t = (2x/a)^1/2\n",
    "\n",
    "a = 9.8\n",
    "x = 100\n",
    "t = (200/(9.8))^1/2\n",
    "t = (20.41)^1/2\n",
    "t = 4.518s"
   ]
  },
  {
   "cell_type": "markdown",
   "id": "b90c538a-f292-4130-9b8e-55748fa0723b",
   "metadata": {},
   "source": [
    "### Results"
   ]
  },
  {
   "cell_type": "markdown",
   "id": "aea4c994-8965-43fe-9f49-c1558027b521",
   "metadata": {},
   "source": [
    "The time to drop the ball 100m from our simulation was 4.52 seconds. The calculations we made to verify our results gave a value of 4.518s. Therefore, we can conclude that the simulation accurately represents a ball dropping in free fall.  "
   ]
  },
  {
   "cell_type": "markdown",
   "id": "01e8ec21-76d9-4c35-b121-e9611801c5aa",
   "metadata": {},
   "source": [
    "# Ball Bouncing"
   ]
  },
  {
   "cell_type": "code",
   "execution_count": 4,
   "id": "129df1b4-cd67-47d6-ab57-686e6a1fa0f4",
   "metadata": {},
   "outputs": [],
   "source": [
    "from vpython import *"
   ]
  },
  {
   "cell_type": "code",
   "execution_count": 5,
   "id": "345e4cfe-f001-4e2c-8c36-1d2d4be13782",
   "metadata": {},
   "outputs": [
    {
     "data": {
      "text/html": [
       "<div id=\"glowscript\" class=\"glowscript\"></div>"
      ],
      "text/plain": [
       "<IPython.core.display.HTML object>"
      ]
     },
     "metadata": {},
     "output_type": "display_data"
    },
    {
     "data": {
      "application/javascript": [
       "if (typeof Jupyter !== \"undefined\") { window.__context = { glowscript_container: $(\"#glowscript\").removeAttr(\"id\")};}else{ element.textContent = ' ';}"
      ],
      "text/plain": [
       "<IPython.core.display.Javascript object>"
      ]
     },
     "metadata": {},
     "output_type": "display_data"
    }
   ],
   "source": [
    "scene = canvas()\n",
    "ball = sphere(pos=vec(0,10,0), radius=0.3, color=color.red, make_trail = True)\n",
    "ball.velocity = 0\n",
    "ground = box(pos=vector(0,0,0), size=vector(15,0.2,15), color=color.green)"
   ]
  },
  {
   "cell_type": "code",
   "execution_count": 6,
   "id": "7961b319-a0e0-4730-b641-ad3aeaab5866",
   "metadata": {
    "scrolled": true
   },
   "outputs": [],
   "source": [
    "dt = 0.01\n",
    "g = 9.8 #m/s^2\n",
    "x = 0\n",
    "\n",
    "# manually end if simulation is running longer than needed\n",
    "while x<700:\n",
    "    rate(100)\n",
    "    x = x+1\n",
    "    ball.pos.y = ball.pos.y + ball.velocity*dt\n",
    "    if ball.pos.y < ball.radius:\n",
    "        # send ball in opposite direction (no energy lost assuming)\n",
    "        ball.velocity = abs(ball.velocity)\n",
    "    else:\n",
    "        ball.velocity = ball.velocity - g*dt"
   ]
  },
  {
   "cell_type": "markdown",
   "id": "633ac05f-b6eb-4d16-8303-0655ce881f35",
   "metadata": {},
   "source": [
    "### Assumptions"
   ]
  },
  {
   "cell_type": "markdown",
   "id": "e5d8adcd-e5ac-454f-90d6-594d253269a1",
   "metadata": {},
   "source": [
    "I assumed that the simulation would be using elastic collision meaning no energy is lost upon collision. Therefore, the ball bounces at the same height infinitely. Mass of the ball is negligible in this circumstance."
   ]
  },
  {
   "cell_type": "markdown",
   "id": "2f659e3d-5b4c-4bed-a00c-46b8bff2c200",
   "metadata": {},
   "source": [
    "# Ball Launched from Cannon"
   ]
  },
  {
   "cell_type": "code",
   "execution_count": 7,
   "id": "cefe82a6-7276-4359-b64a-e8df06002673",
   "metadata": {},
   "outputs": [],
   "source": [
    "from vpython import *"
   ]
  },
  {
   "cell_type": "code",
   "execution_count": 8,
   "id": "8a79e1a3-aaea-4e4e-bdad-326a34ec8647",
   "metadata": {},
   "outputs": [],
   "source": [
    "def launchFromCannon(angle):\n",
    "    scene = canvas()\n",
    "    ball = sphere(pos=vector(0,0,0), radius=6, color=color.red, make_trail = True)\n",
    "    ground = box(pos=vector(0,0,0), size=vector(1000,1,30), color=color.green)\n",
    "\n",
    "    seconds = 0\n",
    "    v0 = 40  # asssuming cannon launches at 40 m/s?\n",
    "    g = 9.8  #m/s^2\n",
    "    dt = 0.01 \n",
    "    theta = angle*(3.1415926/180) #angle from degrees to radians\n",
    "    velocity = vector(v0*cos(theta),v0*sin(theta),0)\n",
    "\n",
    "    # same as before essentially\n",
    "    while ball.pos.y >= 0:  \n",
    "        rate(100) \n",
    "        seconds = seconds + 1\n",
    "        #decrease position\n",
    "        ball.pos = ball.pos + velocity * dt \n",
    "        velocity.y = velocity.y - g * dt  \n",
    "    return seconds/100, ball.pos.x"
   ]
  },
  {
   "cell_type": "code",
   "execution_count": 9,
   "id": "67038503-a59c-488e-a2f7-5da5bf82b287",
   "metadata": {},
   "outputs": [
    {
     "data": {
      "text/html": [
       "<div id=\"glowscript\" class=\"glowscript\"></div>"
      ],
      "text/plain": [
       "<IPython.core.display.HTML object>"
      ]
     },
     "metadata": {},
     "output_type": "display_data"
    },
    {
     "data": {
      "application/javascript": [
       "if (typeof Jupyter !== \"undefined\") { window.__context = { glowscript_container: $(\"#glowscript\").removeAttr(\"id\")};}else{ element.textContent = ' ';}"
      ],
      "text/plain": [
       "<IPython.core.display.Javascript object>"
      ]
     },
     "metadata": {},
     "output_type": "display_data"
    },
    {
     "name": "stdout",
     "output_type": "stream",
     "text": [
      "Launch Time in Seconds:  7.08\n",
      "Meters Travelled Y Axis:  141.6000043811165\n"
     ]
    }
   ],
   "source": [
    "time,meters = launchFromCannon(60) #angle in degrees\n",
    "print(\"Launch Time in Seconds: \",time)\n",
    "print(\"Meters Travelled Y Axis: \",meters)"
   ]
  },
  {
   "cell_type": "code",
   "execution_count": null,
   "id": "26a41a8e-7a0d-4997-a8a4-d7de914b0a71",
   "metadata": {},
   "outputs": [
    {
     "data": {
      "text/html": [
       "<div id=\"glowscript\" class=\"glowscript\"></div>"
      ],
      "text/plain": [
       "<IPython.core.display.HTML object>"
      ]
     },
     "metadata": {},
     "output_type": "display_data"
    },
    {
     "data": {
      "application/javascript": [
       "if (typeof Jupyter !== \"undefined\") { window.__context = { glowscript_container: $(\"#glowscript\").removeAttr(\"id\")};}else{ element.textContent = ' ';}"
      ],
      "text/plain": [
       "<IPython.core.display.Javascript object>"
      ]
     },
     "metadata": {},
     "output_type": "display_data"
    }
   ],
   "source": [
    "time,meters = launchFromCannon(20) #angle in degrees\n",
    "print(\"Launch Time in Seconds: \",time)\n",
    "print(\"Meters Travelled Y Axis: \",meters)"
   ]
  },
  {
   "cell_type": "code",
   "execution_count": null,
   "id": "31c08396-03c8-4ef2-9fe4-b28a2b944335",
   "metadata": {
    "scrolled": true
   },
   "outputs": [],
   "source": [
    "time,meters = launchFromCannon(45) #angle in degrees\n",
    "print(\"Launch Time in Seconds: \",time)\n",
    "print(\"Meters Travelled Y Axis: \",meters)"
   ]
  },
  {
   "cell_type": "markdown",
   "id": "b0fad4fa-5ac2-4aec-9c7f-989ec9044bf6",
   "metadata": {},
   "source": [
    "### Calculations"
   ]
  },
  {
   "cell_type": "markdown",
   "id": "b8296ae0-e285-40e9-8489-039db465c7bb",
   "metadata": {},
   "source": [
    "The equation for launching a ball from a cannon is (Vertical/Y Component):\n",
    "y(t) = v0*sin(theta)*t-(0.5*g*t^2) (theta=launch angle)\n",
    "\n",
    "The equation for launching a ball from a cannon is (Horizontal/X component):\n",
    "x(t) = v0*cos(θ)t\n",
    "\n",
    "The Y component is used for the Y component of the velocity vector and the X component is used for the X component of the velocity vector.\n",
    "\n",
    "We can pick a number to assume the cannon launches the ball at and I picked 40 m/s which is our v0. Then we pick an angle to shoot the ball from.\n",
    "\n",
    "Calculating Time:\n",
    "At t=0, y=0\n",
    "0 = v0*sin(theta)*t-(0.5*g*t^2)\n",
    "0 = t(v0*sin(theta)-(0.5*g*t^2)\n",
    "t=0\n",
    "\n",
    "0 = v0*sin(theta)-(0.5*g*t^2)\n",
    "0.5*g*t^2 = v0*sin(theta)\n",
    "t = sqrt(v0*sin(theta) / (0.5*g))\n",
    "t = sqrt(40*sin(0.785398) / 4.9\n",
    "t = 5.7722993114 seconds\n",
    "##### Verified by the simulation above, some rounding errors in hand calculation\n",
    "\n",
    "Calculating Distance Traveled X:\n",
    "x(t) = v0*cos(theta)t\n",
    "x(t) = 40*cos(0.785398)*5.7722993114\n",
    "x(t) = 163.265297315 m\n",
    "##### Verified by the simulation above, some rounding errors in hand calculation"
   ]
  },
  {
   "cell_type": "markdown",
   "id": "22ca7481-902d-47ce-8a84-8a8f9bd668ab",
   "metadata": {},
   "source": [
    "### Results"
   ]
  },
  {
   "cell_type": "markdown",
   "id": "9a7fae8b-d25c-45d0-8f1e-3cfcc3f843f7",
   "metadata": {},
   "source": [
    "The smaller the angle, the smaller the horizontal distance traveled and the shorter the launch time.\n",
    "\n",
    "Comparing the calculations made by hand and the simulation made, we can infer that the simulation is an accurate representation of a ball being launched from a cannon. The mass of the ball is negligible in this situation."
   ]
  },
  {
   "cell_type": "markdown",
   "id": "8f0ee777-fa9a-4c02-b344-3771b4a27eed",
   "metadata": {},
   "source": [
    "# Graphs"
   ]
  },
  {
   "cell_type": "markdown",
   "id": "316c1b25-d6a2-4440-80f6-ad22bee52bc8",
   "metadata": {},
   "source": [
    "This section includes the graphs for the ball in freefall and the ball bouncing"
   ]
  },
  {
   "cell_type": "markdown",
   "id": "877faad9-33bb-4551-93e7-020d3e2f61c3",
   "metadata": {},
   "source": [
    "## Ball Dropping Due To Gravity"
   ]
  },
  {
   "cell_type": "markdown",
   "id": "f5793e42-785c-476d-a134-086abf9d31dc",
   "metadata": {},
   "source": [
    "### Velocity Over Time Without Air Resistance"
   ]
  },
  {
   "cell_type": "code",
   "execution_count": null,
   "id": "a361adea-d575-4cc1-b13f-1ac83ac102e7",
   "metadata": {},
   "outputs": [],
   "source": [
    "from vpython import *\n",
    "import matplotlib.pyplot as plt\n",
    "velocityList = []\n",
    "secondsList = []"
   ]
  },
  {
   "cell_type": "code",
   "execution_count": null,
   "id": "fb080200-383b-47e8-96d4-c24731bf941a",
   "metadata": {
    "scrolled": true
   },
   "outputs": [],
   "source": [
    "def graphHeightDrops(secondsList,velocityList,height):\n",
    "    plt.plot(secondsList,velocityList)\n",
    "    plt.plot(secondsList, velocityList, label=f\"{height} Drop\")\n",
    "    plt.xlabel('Seconds')\n",
    "    plt.ylabel('Velocity')\n",
    "    plt.title('Velocity Over Time Without Air Resistance')\n",
    "    plt.legend()"
   ]
  },
  {
   "cell_type": "code",
   "execution_count": null,
   "id": "fbca06ca-3cfa-46e2-ab13-47a989d67868",
   "metadata": {},
   "outputs": [],
   "source": [
    "secondsList, velocityList, maxv = ballFallingDueToGravity(100)\n",
    "graphHeightDrops(secondsList,velocityList,\"100\")\n",
    "print(\"100m Max Velocity: \",maxv)\n",
    "\n",
    "secondsList, velocityList, maxv = ballFallingDueToGravity(50)\n",
    "graphHeightDrops(secondsList,velocityList,\"50\")\n",
    "print(\"50m Max Velocity: \",maxv)\n",
    "\n",
    "secondsList, velocityList, maxv = ballFallingDueToGravity(25)\n",
    "graphHeightDrops(secondsList,velocityList,\"25\")\n",
    "print(\"25m Max Velocity: \",maxv)\n",
    "\n",
    "plt.show()"
   ]
  },
  {
   "cell_type": "markdown",
   "id": "5e23833f-a7dd-456b-9abf-1343bc45f60e",
   "metadata": {},
   "source": [
    "### Velocity Over Time With Air Resistance"
   ]
  },
  {
   "cell_type": "code",
   "execution_count": null,
   "id": "dd6659b2-a5b0-4ebe-b387-0e75c58cd7e8",
   "metadata": {},
   "outputs": [],
   "source": [
    "from vpython import *"
   ]
  },
  {
   "cell_type": "code",
   "execution_count": null,
   "id": "a1ee619a-da08-4735-b22c-a5c43835a8f4",
   "metadata": {},
   "outputs": [],
   "source": [
    "def ballFallingDueToGravityWithAirResistance(height):\n",
    "    scene = canvas()\n",
    "    ball = sphere(pos=vec(0,height,0), radius=0.3, color=color.yellow, make_trail = True)\n",
    "    velocity = 0\n",
    "    velocityList = [0]\n",
    "    secondsList = [0]\n",
    "    g = 9.8\n",
    "    dt = 0.01\n",
    "    seconds = 0\n",
    "    t = 0\n",
    "\n",
    "    # air resistance\n",
    "    rho = 1.225  # kg/m^3\n",
    "    C = 0.47  # drag coefficient\n",
    "    r = 0.3  # radius\n",
    "    A = 3.1415926*r*r  # pir^2\n",
    "    m = 0.2  # assuming mass of ball is 0.2 kg?\n",
    "    k = (1/2)*C*rho*A  # air resistance constant\n",
    "    maxv = 0\n",
    "    \n",
    "    while ball.pos.y > 0:\n",
    "        rate(100)\n",
    "\n",
    "        #air pull ball down\n",
    "        drag = -k*velocity*abs(velocity)\n",
    "\n",
    "        if velocity > maxv:\n",
    "            maxv = velocity\n",
    "        \n",
    "        a = g + drag\n",
    "        velocity = velocity + a*dt\n",
    "        ball.pos.y -= velocity * dt\n",
    "        \n",
    "        seconds = seconds + 1\n",
    "        secondsList.append(seconds/100)\n",
    "        velocityList.append(velocity)\n",
    "\n",
    "    print(height,\"m Drop Time: \",seconds/100,\" seconds\")\n",
    "    return secondsList, velocityList, maxv"
   ]
  },
  {
   "cell_type": "code",
   "execution_count": null,
   "id": "d44ded96-98b2-4866-8942-25dd3fedfd8e",
   "metadata": {},
   "outputs": [],
   "source": [
    "import matplotlib.pyplot as plt\n",
    "def graphHeightDropsAirResist(secondsList,velocityList,height):\n",
    "    plt.plot(secondsList,velocityList)\n",
    "    plt.plot(secondsList, velocityList, label=f\"{height} Drop\")\n",
    "    plt.xlabel('Seconds')\n",
    "    plt.ylabel('Velocity')\n",
    "    plt.title('Velocity Over Time With Air Resistance')\n",
    "    plt.legend()"
   ]
  },
  {
   "cell_type": "code",
   "execution_count": null,
   "id": "3d44cac0-56e1-4272-aa1b-e66fe4561e27",
   "metadata": {},
   "outputs": [],
   "source": [
    "secondsList, velocityList, maxv = ballFallingDueToGravityWithAirResistance(100)\n",
    "graphHeightDropsAirResist(secondsList,velocityList,\"100\")\n",
    "print(\"100m Max Velocity: \",maxv)\n",
    "\n",
    "secondsList, velocityList, maxv = ballFallingDueToGravityWithAirResistance(50)\n",
    "graphHeightDropsAirResist(secondsList,velocityList,\"50\")\n",
    "print(\"50m Max Velocity: \",maxv)\n",
    "\n",
    "secondsList, velocityList, maxv = ballFallingDueToGravityWithAirResistance(25)\n",
    "graphHeightDropsAirResist(secondsList,velocityList,\"25\")\n",
    "print(\"25m Max Velocity: \",maxv)\n",
    "\n",
    "plt.show()"
   ]
  },
  {
   "cell_type": "markdown",
   "id": "bb75ba66-d5b4-4a02-8c4b-8bee761cd136",
   "metadata": {},
   "source": [
    "### Results"
   ]
  },
  {
   "cell_type": "markdown",
   "id": "81d7aa62-fe00-4650-8ea7-de83312798e8",
   "metadata": {},
   "source": [
    "Regardless of drop the height the ball is dropped from, it appears that the ball will have similar velocities when in free fall. The freefall velocity without air resistance is a linear line which makes sense considering there are no forces opposing the gravity pulling the ball down. The max velocity for each simulation decreases with a decrease in height the ball is dropped from. This makes sense as the ball has less time to accelerate before it reaches the ground.\n",
    "\n",
    "The velocity of the freefall with air resistance causes a parabola in the velocity over time graph. This makes sense as the force pushing against gravity on the ball would result in a peak velocity of some value. In this case it appears to be about 10 m/s for all three simulations.\n",
    "\n",
    "In this simulation I assumed the ball would have a mass of 0.2 kg and a radius of 0.3 m."
   ]
  },
  {
   "cell_type": "markdown",
   "id": "432baabe-a152-468a-ac03-a0e60d56b0a7",
   "metadata": {},
   "source": [
    "# Ball Bouncing"
   ]
  },
  {
   "cell_type": "markdown",
   "id": "640c559f-8e03-4fd9-b675-32e74c5518fd",
   "metadata": {},
   "source": [
    "## Position Over Time With Elastic Collision"
   ]
  },
  {
   "cell_type": "code",
   "execution_count": null,
   "id": "a9b59745-b6ff-40da-9386-ebe092cf4c13",
   "metadata": {},
   "outputs": [],
   "source": [
    "from vpython import *\n",
    "import matplotlib.pyplot as plt"
   ]
  },
  {
   "cell_type": "code",
   "execution_count": null,
   "id": "611d1bd6-8f6e-4df9-8d10-b05839ec9261",
   "metadata": {},
   "outputs": [],
   "source": [
    "def ElasticCollision(height):\n",
    "    scene = canvas()\n",
    "    ball = sphere(pos=vec(0,height,0), radius=0.3, color=color.red, make_trail = True)\n",
    "    ball.velocity = 0\n",
    "    ground = box(pos=vector(0,0,0), size=vector(15,0.2,15), color=color.green)\n",
    "    dt = 0.01\n",
    "    g = 9.8 #m/s^2\n",
    "    x = 0\n",
    "    heightlist = [height]\n",
    "    secondslist = [0]\n",
    "    seconds = 0\n",
    "    \n",
    "    # manually end if simulation is running longer than needed\n",
    "    while x<1000:\n",
    "        rate(100)\n",
    "        x = x+1\n",
    "        seconds = seconds + 1\n",
    "        ball.pos.y = ball.pos.y + ball.velocity*dt\n",
    "        if ball.pos.y < ball.radius:\n",
    "            ball.velocity = abs(ball.velocity)\n",
    "        else:\n",
    "            ball.velocity = ball.velocity - g*dt\n",
    "    \n",
    "        heightlist.append(ball.pos.y)\n",
    "        secondslist.append(seconds)\n",
    "    \n",
    "    return secondslist, heightlist"
   ]
  },
  {
   "cell_type": "code",
   "execution_count": null,
   "id": "216acd95-d193-43cf-9f8f-9ef603d38db4",
   "metadata": {},
   "outputs": [],
   "source": [
    "def graphElasticCollision(secondsList,heightlist,height):\n",
    "    plt.plot(secondsList,heightlist)\n",
    "    plt.plot(secondsList, heightlist, label=f\"{height} Drop\")\n",
    "    plt.xlabel('Seconds')\n",
    "    plt.ylabel('Height')\n",
    "    plt.title('Position Over Time: Elastic Collision')\n",
    "    plt.legend()"
   ]
  },
  {
   "cell_type": "code",
   "execution_count": null,
   "id": "25801c47-af3e-4a12-8790-d7fb0ac976ff",
   "metadata": {},
   "outputs": [],
   "source": [
    "secondsList, heightlist = ElasticCollision(10)\n",
    "graphElasticCollision(secondsList,heightlist,\"10\")\n",
    "\n",
    "secondsList, heightlist = ElasticCollision(5)\n",
    "graphElasticCollision(secondsList,heightlist,\"5\")\n",
    "\n",
    "secondsList, heightlist = ElasticCollision(2)\n",
    "graphElasticCollision(secondsList,heightlist,\"2\")\n",
    "\n",
    "plt.show()"
   ]
  },
  {
   "cell_type": "markdown",
   "id": "15a1771c-f2bc-4ee6-a9a9-08b5b5845399",
   "metadata": {},
   "source": [
    "## Velocity Over Time With Inelastic Collision"
   ]
  },
  {
   "cell_type": "code",
   "execution_count": null,
   "id": "540dbd69-3107-4d2b-ad4a-e06b29d65b03",
   "metadata": {},
   "outputs": [],
   "source": [
    "from vpython import *\n",
    "import matplotlib.pyplot as plt"
   ]
  },
  {
   "cell_type": "code",
   "execution_count": null,
   "id": "8d97e581-247f-4631-a9a7-dde1f0bdd72f",
   "metadata": {},
   "outputs": [],
   "source": [
    "def InelasticCollision(height):\n",
    "    scene = canvas()\n",
    "    ball = sphere(pos=vec(0,height,0), radius=0.3, color=color.red, make_trail = True)\n",
    "    ball.velocity = 0\n",
    "    ground = box(pos=vector(0,-0.1,0), size=vector(15,0.2,15), color=color.green)\n",
    "    dt = 0.01\n",
    "    g = -9.8 #m/s^2\n",
    "    x = 0\n",
    "    heightlist = [height]\n",
    "    secondslist = [0]\n",
    "    seconds = 0\n",
    "    coe = 0.99\n",
    "    if height >=5:\n",
    "        coe = 0.99\n",
    "    else:\n",
    "        coe = 0.85\n",
    "    \n",
    "    # manually end if simulation is running longer than needed\n",
    "    while x<2000:\n",
    "        rate(100)\n",
    "        seconds = seconds + 1\n",
    "        x = x+1\n",
    "        ball.velocity = ball.velocity + g*dt\n",
    "        ball.pos.y = ball.pos.y + ball.velocity*dt\n",
    "\n",
    "       # print(ball.velocity)\n",
    "        \n",
    "        if ball.pos.y <= ball.radius:\n",
    "            ball.velocity = -ball.velocity * coe\n",
    "            if ball.pos.y < 0.01 and abs(ball.velocity) < 0.001:\n",
    "                break  \n",
    "\n",
    "        if ball.pos.y <= 0:\n",
    "            break\n",
    "    \n",
    "        heightlist.append(ball.pos.y)\n",
    "        secondslist.append(seconds)\n",
    "    \n",
    "    return secondslist, heightlist"
   ]
  },
  {
   "cell_type": "code",
   "execution_count": null,
   "id": "38fbd1da-f85d-4795-b8e2-8b3c8ea9d1f5",
   "metadata": {},
   "outputs": [],
   "source": [
    "def graphInelasticCollision(secondsList,heightlist,height):\n",
    "    plt.plot(secondsList,heightlist)\n",
    "    plt.plot(secondsList, heightlist, label=f\"{height} Drop\")\n",
    "    plt.xlabel('Seconds')\n",
    "    plt.ylabel('Height')\n",
    "    plt.title('Position Over Time: Inelastic Collision')\n",
    "    plt.legend()"
   ]
  },
  {
   "cell_type": "code",
   "execution_count": null,
   "id": "4bc63398-9c5e-4cca-911b-763869308b3f",
   "metadata": {},
   "outputs": [],
   "source": [
    "secondsList, heightlist = InelasticCollision(10)\n",
    "graphInelasticCollision(secondsList,heightlist,\"10\")\n",
    "\n",
    "secondsList, heightlist = InelasticCollision(5)\n",
    "graphInelasticCollision(secondsList,heightlist,\"5\")\n",
    "\n",
    "secondsList, heightlist = InelasticCollision(2)\n",
    "graphInelasticCollision(secondsList,heightlist,\"2\")\n",
    "\n",
    "plt.show()"
   ]
  },
  {
   "cell_type": "markdown",
   "id": "d6306e01-a9a2-45f7-b410-996c1cd77555",
   "metadata": {},
   "source": [
    "### Results"
   ]
  },
  {
   "cell_type": "markdown",
   "id": "8665ca02-51d8-423b-944f-f46dfedb86b3",
   "metadata": {},
   "source": [
    "The graphs for both the inelastic and elastic collisions make sense. In the elastic collision, no energy is lost upon collision. The ball would essentially bounce forever, and thus the position over time remains steady parabolas. The smaller the height the ball is dropped from, the higher the frequency of the graph.\n",
    "\n",
    "The inelastic collision graph shows that as the frequency of the graph increases, the position reaches a steady state where the ball can be shown as not moving. "
   ]
  },
  {
   "cell_type": "code",
   "execution_count": null,
   "id": "f928dc62-2a1d-4b85-8a3c-bc7f9f52c8cb",
   "metadata": {},
   "outputs": [],
   "source": []
  }
 ],
 "metadata": {
  "kernelspec": {
   "display_name": "Python 3 (ipykernel)",
   "language": "python",
   "name": "python3"
  },
  "language_info": {
   "codemirror_mode": {
    "name": "ipython",
    "version": 3
   },
   "file_extension": ".py",
   "mimetype": "text/x-python",
   "name": "python",
   "nbconvert_exporter": "python",
   "pygments_lexer": "ipython3",
   "version": "3.10.16"
  }
 },
 "nbformat": 4,
 "nbformat_minor": 5
}
