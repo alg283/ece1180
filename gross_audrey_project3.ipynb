{
 "cells": [
  {
   "cell_type": "markdown",
   "id": "19f96797-c6b8-492e-85a8-318808e32e12",
   "metadata": {},
   "source": [
    "# Project 3: Crystal Lattice"
   ]
  },
  {
   "cell_type": "code",
   "execution_count": 3,
   "id": "6ee4e5b1-8701-4101-a9d4-ef8d641d329d",
   "metadata": {},
   "outputs": [],
   "source": [
    "from vpython import *\n",
    "import numpy as np"
   ]
  },
  {
   "cell_type": "code",
   "execution_count": 4,
   "id": "eed3d667-785f-486a-af25-96fa812cd8a5",
   "metadata": {},
   "outputs": [],
   "source": [
    "# Constants\n",
    "N = 3  # Number of atoms per side\n",
    "k = 5  # Spring constant\n",
    "mass = 1  # Mass of each atom\n",
    "damping = 0  # No damping (undamped system)\n",
    "dt = 0.01  # Time step\n",
    "L = 1  # Equilibrium bond length"
   ]
  },
  {
   "cell_type": "code",
   "execution_count": 5,
   "id": "0265a375-ce88-41b9-a7e4-bb2efcf665d9",
   "metadata": {},
   "outputs": [],
   "source": [
    "# Hooke's Law force calculations (only between defined pairs)\n",
    "def spring_force(atomA, atomB, vA, vB, k):\n",
    "    displacement = atomB.pos - atomA.pos\n",
    "    stretch = mag(displacement) - mag(atomB.pos - atomA.pos)\n",
    "    force_magnitude = -k * stretch\n",
    "    force_direction = norm(displacement)\n",
    "    force = force_magnitude * force_direction\n",
    "    return force"
   ]
  },
  {
   "cell_type": "code",
   "execution_count": 6,
   "id": "dba2d229-c4aa-4dc8-8570-1408f5b23736",
   "metadata": {},
   "outputs": [],
   "source": [
    "def createCube2():\n",
    "    scene = canvas()\n",
    "        # Create atoms (spheres) and store them in a dictionary\n",
    "    atoms = {}\n",
    "    velocities = {}\n",
    "    springs = []\n",
    "    \n",
    "    for x in range(N):\n",
    "        for y in range(N):\n",
    "            for z in range(N):\n",
    "                pos = vector(x * L, y * L, z * L)\n",
    "                atom = sphere(pos=pos, radius=0.2, color=color.cyan, make_trail=False)\n",
    "                atoms[(x, y, z)] = atom\n",
    "                velocities[(x, y, z)] = vector(np.random.uniform(-1, 1), np.random.uniform(-1, 1), np.random.uniform(-1, 1))\n",
    "    \n",
    "    # Function to get neighbors\n",
    "    neighbors = [(1, 0, 0), (-1, 0, 0), (0, 1, 0), (0, -1, 0), (0, 0, 1), (0, 0, -1)]\n",
    "    \n",
    "    # Create springs (cylinders) connecting neighboring atoms\n",
    "    for (x, y, z), atom in atoms.items():\n",
    "        for dx, dy, dz in neighbors:\n",
    "            neighbor_key = (x + dx, y + dy, z + dz)\n",
    "            if neighbor_key in atoms:\n",
    "                neighbor = atoms[neighbor_key]\n",
    "                spring = cylinder(pos=atom.pos, axis=neighbor.pos - atom.pos, radius=0.05, color=color.white)\n",
    "                springs.append((spring, (x, y, z), neighbor_key))\n",
    "                \n",
    "    while True:\n",
    "        rate(100)\n",
    "        forces = {key: vector(0, 0, 0) for key in atoms}\n",
    "        for (x, y, z), atom in atoms.items():\n",
    "            for dx, dy, dz in neighbors:\n",
    "                neighbor_key = (x + dx, y + dy, z + dz)\n",
    "                if neighbor_key in atoms:\n",
    "                    neighbor = atoms[neighbor_key]\n",
    "                    displacement = neighbor.pos - atom.pos\n",
    "                    extension = mag(displacement) - L\n",
    "                    force = k * extension * norm(displacement)\n",
    "                    forces[(x, y, z)] += force\n",
    "                    forces[neighbor_key] -= force\n",
    "        \n",
    "        # Update positions and velocities\n",
    "        for key in atoms:\n",
    "            acceleration = forces[key] / mass\n",
    "            velocities[key] += acceleration * dt\n",
    "            atoms[key].pos += velocities[key] * dt\n",
    "        \n",
    "        # Update spring positions\n",
    "        for spring, key1, key2 in springs:\n",
    "            spring.pos = atoms[key1].pos\n",
    "            spring.axis = atoms[key2].pos - atoms[key1].pos"
   ]
  },
  {
   "cell_type": "code",
   "execution_count": 7,
   "id": "740ed8ba-ab31-4ca1-bce5-7de8a1e42877",
   "metadata": {},
   "outputs": [],
   "source": [
    "def createCube3():\n",
    "    scene = canvas()\n",
    "\n",
    "    # Create atoms (spheres) and store them in a dictionary\n",
    "    atoms = {}\n",
    "    velocities = {}\n",
    "    springs = []\n",
    "\n",
    "    for x in range(N):\n",
    "        for y in range(N):\n",
    "            for z in range(N):\n",
    "                pos = vector(x * L, y * L, z * L)\n",
    "                atom = sphere(pos=pos, radius=0.2, color=color.cyan, make_trail=False)\n",
    "                atoms[(x, y, z)] = atom\n",
    "                velocities[(x, y, z)] = vector(np.random.uniform(-0.1, 0.1), np.random.uniform(-0.1, 0.1), np.random.uniform(-0.1, 0.1))  # Smaller initial velocity\n",
    "\n",
    "    # Function to get neighbors (Face-connected + Edge-connected + 3D Diagonal)\n",
    "    neighbors = [\n",
    "        (1, 0, 0), (-1, 0, 0), (0, 1, 0), (0, -1, 0), (0, 0, 1), (0, 0, -1),  # Face-connected (6)\n",
    "        (1, 1, 0), (-1, -1, 0), (1, -1, 0), (-1, 1, 0),  # Edge-connected (XY plane)\n",
    "        (1, 0, 1), (-1, 0, -1), (1, 0, -1), (-1, 0, 1),  # Edge-connected (XZ plane)\n",
    "        (0, 1, 1), (0, -1, -1), (0, 1, -1), (0, -1, 1),  # Edge-connected (YZ plane)\n",
    "        (1, 1, 1), (-1, -1, -1), (1, 1, -1), (-1, -1, 1),  # 3D Space Diagonal\n",
    "        (1, -1, 1), (-1, 1, -1), (1, -1, -1), (-1, 1, 1)\n",
    "    ]\n",
    "\n",
    "    # Create springs (cylinders) connecting neighboring atoms\n",
    "    for (x, y, z), atom in atoms.items():\n",
    "        for dx, dy, dz in neighbors:\n",
    "            neighbor_key = (x + dx, y + dy, z + dz)\n",
    "            if neighbor_key in atoms:\n",
    "                neighbor = atoms[neighbor_key]\n",
    "                spring = cylinder(pos=atom.pos, axis=neighbor.pos - atom.pos, radius=0.05, color=color.white)\n",
    "                springs.append((spring, (x, y, z), neighbor_key))\n",
    "\n",
    "    damping_factor = 0.98  # Reduce velocities over time to prevent infinite oscillations\n",
    "\n",
    "    while True:\n",
    "        rate(100)\n",
    "        forces = {key: vector(0, 0, 0) for key in atoms}\n",
    "\n",
    "        # **Spring forces**\n",
    "        for (x, y, z), atom in atoms.items():\n",
    "            for dx, dy, dz in neighbors:\n",
    "                neighbor_key = (x + dx, y + dy, z + dz)\n",
    "                if neighbor_key in atoms:\n",
    "                    neighbor = atoms[neighbor_key]\n",
    "                    displacement = neighbor.pos - atom.pos\n",
    "                    rest_length = mag(vector(dx, dy, dz) * L)  # Rest length depends on diagonal\n",
    "                    extension = mag(displacement) - rest_length\n",
    "                    force = k * extension * norm(displacement)\n",
    "                    forces[(x, y, z)] += force\n",
    "                    forces[neighbor_key] -= force\n",
    "\n",
    "        # **Repulsive forces (stronger, nonlinear)**\n",
    "        keys = list(atoms.keys())\n",
    "        for i in range(len(keys)):\n",
    "            for j in range(i + 1, len(keys)):  # Avoid redundant calculations\n",
    "                key1, key2 = keys[i], keys[j]\n",
    "                atom1, atom2 = atoms[key1], atoms[key2]\n",
    "\n",
    "                dist_vec = atom2.pos - atom1.pos\n",
    "                distance = mag(dist_vec)\n",
    "                min_dist = 0.4  # Prevent overlap\n",
    "\n",
    "                if distance < min_dist:\n",
    "                    # Use a strong exponential repulsion force\n",
    "                    repulsion_strength = 500 * exp(-distance / 0.1)\n",
    "                    repulsion_force = repulsion_strength * norm(dist_vec)\n",
    "\n",
    "                    forces[key1] -= repulsion_force\n",
    "                    forces[key2] += repulsion_force\n",
    "\n",
    "                    # Adjust velocities to prevent overlap\n",
    "                    velocities[key1] -= norm(repulsion_force) * dt\n",
    "                    velocities[key2] += norm(repulsion_force) * dt\n",
    "\n",
    "        # **Update positions and velocities**\n",
    "        for key in atoms:\n",
    "            acceleration = forces[key] / mass\n",
    "            velocities[key] = velocities[key] * damping_factor + acceleration * dt  # Apply damping\n",
    "            atoms[key].pos += velocities[key] * dt\n",
    "\n",
    "        # **Update spring positions**\n",
    "        for spring, key1, key2 in springs:\n",
    "            spring.pos = atoms[key1].pos\n",
    "            spring.axis = atoms[key2].pos - atoms[key1].pos\n"
   ]
  },
  {
   "cell_type": "code",
   "execution_count": 8,
   "id": "60ef3531-3312-4c7e-a49f-35fb80f24f2b",
   "metadata": {},
   "outputs": [
    {
     "data": {
      "text/html": [
       "<div id=\"glowscript\" class=\"glowscript\"></div>"
      ],
      "text/plain": [
       "<IPython.core.display.HTML object>"
      ]
     },
     "metadata": {},
     "output_type": "display_data"
    },
    {
     "data": {
      "application/javascript": "if (typeof Jupyter !== \"undefined\") { window.__context = { glowscript_container: $(\"#glowscript\").removeAttr(\"id\")};}else{ element.textContent = ' ';}",
      "text/plain": [
       "<IPython.core.display.Javascript object>"
      ]
     },
     "metadata": {},
     "output_type": "display_data"
    },
    {
     "data": {
      "application/javascript": "if (typeof Jupyter !== \"undefined\") {require.undef(\"nbextensions/vpython_libraries/glow.min\");}else{element.textContent = ' ';}",
      "text/plain": [
       "<IPython.core.display.Javascript object>"
      ]
     },
     "metadata": {},
     "output_type": "display_data"
    },
    {
     "data": {
      "application/javascript": "if (typeof Jupyter !== \"undefined\") {require.undef(\"nbextensions/vpython_libraries/glowcomm\");}else{element.textContent = ' ';}",
      "text/plain": [
       "<IPython.core.display.Javascript object>"
      ]
     },
     "metadata": {},
     "output_type": "display_data"
    },
    {
     "data": {
      "application/javascript": "if (typeof Jupyter !== \"undefined\") {require.undef(\"nbextensions/vpython_libraries/jquery-ui.custom.min\");}else{element.textContent = ' ';}",
      "text/plain": [
       "<IPython.core.display.Javascript object>"
      ]
     },
     "metadata": {},
     "output_type": "display_data"
    },
    {
     "data": {
      "application/javascript": "if (typeof Jupyter !== \"undefined\") {require([\"nbextensions/vpython_libraries/glow.min\"], function(){console.log(\"GLOW LOADED\");});}else{element.textContent = ' ';}",
      "text/plain": [
       "<IPython.core.display.Javascript object>"
      ]
     },
     "metadata": {},
     "output_type": "display_data"
    },
    {
     "data": {
      "application/javascript": "if (typeof Jupyter !== \"undefined\") {require([\"nbextensions/vpython_libraries/glowcomm\"], function(){console.log(\"GLOWCOMM LOADED\");});}else{element.textContent = ' ';}",
      "text/plain": [
       "<IPython.core.display.Javascript object>"
      ]
     },
     "metadata": {},
     "output_type": "display_data"
    },
    {
     "data": {
      "application/javascript": "if (typeof Jupyter !== \"undefined\") {require([\"nbextensions/vpython_libraries/jquery-ui.custom.min\"], function(){console.log(\"JQUERY LOADED\");});}else{element.textContent = ' ';}",
      "text/plain": [
       "<IPython.core.display.Javascript object>"
      ]
     },
     "metadata": {},
     "output_type": "display_data"
    },
    {
     "ename": "KeyboardInterrupt",
     "evalue": "",
     "output_type": "error",
     "traceback": [
      "\u001b[1;31m---------------------------------------------------------------------------\u001b[0m",
      "\u001b[1;31mKeyboardInterrupt\u001b[0m                         Traceback (most recent call last)",
      "Cell \u001b[1;32mIn[8], line 1\u001b[0m\n\u001b[1;32m----> 1\u001b[0m x \u001b[38;5;241m=\u001b[39m \u001b[43mcreateCube2\u001b[49m\u001b[43m(\u001b[49m\u001b[43m)\u001b[49m\n",
      "Cell \u001b[1;32mIn[6], line 12\u001b[0m, in \u001b[0;36mcreateCube2\u001b[1;34m()\u001b[0m\n\u001b[0;32m     10\u001b[0m \u001b[38;5;28;01mfor\u001b[39;00m z \u001b[38;5;129;01min\u001b[39;00m \u001b[38;5;28mrange\u001b[39m(N):\n\u001b[0;32m     11\u001b[0m     pos \u001b[38;5;241m=\u001b[39m vector(x \u001b[38;5;241m*\u001b[39m L, y \u001b[38;5;241m*\u001b[39m L, z \u001b[38;5;241m*\u001b[39m L)\n\u001b[1;32m---> 12\u001b[0m     atom \u001b[38;5;241m=\u001b[39m \u001b[43msphere\u001b[49m\u001b[43m(\u001b[49m\u001b[43mpos\u001b[49m\u001b[38;5;241;43m=\u001b[39;49m\u001b[43mpos\u001b[49m\u001b[43m,\u001b[49m\u001b[43m \u001b[49m\u001b[43mradius\u001b[49m\u001b[38;5;241;43m=\u001b[39;49m\u001b[38;5;241;43m0.2\u001b[39;49m\u001b[43m,\u001b[49m\u001b[43m \u001b[49m\u001b[43mcolor\u001b[49m\u001b[38;5;241;43m=\u001b[39;49m\u001b[43mcolor\u001b[49m\u001b[38;5;241;43m.\u001b[39;49m\u001b[43mcyan\u001b[49m\u001b[43m,\u001b[49m\u001b[43m \u001b[49m\u001b[43mmake_trail\u001b[49m\u001b[38;5;241;43m=\u001b[39;49m\u001b[38;5;28;43;01mFalse\u001b[39;49;00m\u001b[43m)\u001b[49m\n\u001b[0;32m     13\u001b[0m     atoms[(x, y, z)] \u001b[38;5;241m=\u001b[39m atom\n\u001b[0;32m     14\u001b[0m     velocities[(x, y, z)] \u001b[38;5;241m=\u001b[39m vector(np\u001b[38;5;241m.\u001b[39mrandom\u001b[38;5;241m.\u001b[39muniform(\u001b[38;5;241m-\u001b[39m\u001b[38;5;241m1\u001b[39m, \u001b[38;5;241m1\u001b[39m), np\u001b[38;5;241m.\u001b[39mrandom\u001b[38;5;241m.\u001b[39muniform(\u001b[38;5;241m-\u001b[39m\u001b[38;5;241m1\u001b[39m, \u001b[38;5;241m1\u001b[39m), np\u001b[38;5;241m.\u001b[39mrandom\u001b[38;5;241m.\u001b[39muniform(\u001b[38;5;241m-\u001b[39m\u001b[38;5;241m1\u001b[39m, \u001b[38;5;241m1\u001b[39m))\n",
      "File \u001b[1;32mc:\\Users\\Audrey\\.conda\\envs\\CompModel2\\lib\\site-packages\\vpython\\vpython.py:1153\u001b[0m, in \u001b[0;36msphere.__init__\u001b[1;34m(self, **args)\u001b[0m\n\u001b[0;32m   1151\u001b[0m args[\u001b[38;5;124m'\u001b[39m\u001b[38;5;124m_default_size\u001b[39m\u001b[38;5;124m'\u001b[39m] \u001b[38;5;241m=\u001b[39m vector(\u001b[38;5;241m2\u001b[39m,\u001b[38;5;241m2\u001b[39m,\u001b[38;5;241m2\u001b[39m)\n\u001b[0;32m   1152\u001b[0m args[\u001b[38;5;124m'\u001b[39m\u001b[38;5;124m_objName\u001b[39m\u001b[38;5;124m'\u001b[39m] \u001b[38;5;241m=\u001b[39m \u001b[38;5;124m\"\u001b[39m\u001b[38;5;124msphere\u001b[39m\u001b[38;5;124m\"\u001b[39m\n\u001b[1;32m-> 1153\u001b[0m \u001b[38;5;28;43msuper\u001b[39;49m\u001b[43m(\u001b[49m\u001b[43msphere\u001b[49m\u001b[43m,\u001b[49m\u001b[43m \u001b[49m\u001b[38;5;28;43mself\u001b[39;49m\u001b[43m)\u001b[49m\u001b[38;5;241;43m.\u001b[39;49m\u001b[43msetup\u001b[49m\u001b[43m(\u001b[49m\u001b[43margs\u001b[49m\u001b[43m)\u001b[49m\n\u001b[0;32m   1154\u001b[0m \u001b[38;5;28mself\u001b[39m\u001b[38;5;241m.\u001b[39m_sizing \u001b[38;5;241m=\u001b[39m \u001b[38;5;28;01mFalse\u001b[39;00m\n",
      "File \u001b[1;32mc:\\Users\\Audrey\\.conda\\envs\\CompModel2\\lib\\site-packages\\vpython\\vpython.py:580\u001b[0m, in \u001b[0;36mstandardAttributes.setup\u001b[1;34m(self, args)\u001b[0m\n\u001b[0;32m    579\u001b[0m \u001b[38;5;28;01mdef\u001b[39;00m\u001b[38;5;250m \u001b[39m\u001b[38;5;21msetup\u001b[39m(\u001b[38;5;28mself\u001b[39m, args):\n\u001b[1;32m--> 580\u001b[0m     \u001b[38;5;28;43msuper\u001b[39;49m\u001b[43m(\u001b[49m\u001b[43mstandardAttributes\u001b[49m\u001b[43m,\u001b[49m\u001b[43m \u001b[49m\u001b[38;5;28;43mself\u001b[39;49m\u001b[43m)\u001b[49m\u001b[38;5;241;43m.\u001b[39;49m\u001b[38;5;21;43m__init__\u001b[39;49m\u001b[43m(\u001b[49m\u001b[43m)\u001b[49m\n\u001b[0;32m    581\u001b[0m     \u001b[38;5;28mself\u001b[39m\u001b[38;5;241m.\u001b[39m_constructing \u001b[38;5;241m=\u001b[39m \u001b[38;5;28;01mTrue\u001b[39;00m  \u001b[38;5;66;03m## calls to setters are from constructor\u001b[39;00m\n\u001b[0;32m    583\u001b[0m     objName \u001b[38;5;241m=\u001b[39m \u001b[38;5;28mself\u001b[39m\u001b[38;5;241m.\u001b[39m_objName \u001b[38;5;241m=\u001b[39m args[\u001b[38;5;124m'\u001b[39m\u001b[38;5;124m_objName\u001b[39m\u001b[38;5;124m'\u001b[39m]  \u001b[38;5;66;03m## identifies object type\u001b[39;00m\n",
      "File \u001b[1;32mc:\\Users\\Audrey\\.conda\\envs\\CompModel2\\lib\\site-packages\\vpython\\vpython.py:239\u001b[0m, in \u001b[0;36mbaseObj.__init__\u001b[1;34m(self, **kwargs)\u001b[0m\n\u001b[0;32m    236\u001b[0m \u001b[38;5;28;01mif\u001b[39;00m \u001b[38;5;129;01mnot\u001b[39;00m (baseObj\u001b[38;5;241m.\u001b[39m_view_constructed \u001b[38;5;129;01mor\u001b[39;00m\n\u001b[0;32m    237\u001b[0m         baseObj\u001b[38;5;241m.\u001b[39m_canvas_constructing):\n\u001b[0;32m    238\u001b[0m     \u001b[38;5;28;01mif\u001b[39;00m _isnotebook:\n\u001b[1;32m--> 239\u001b[0m         \u001b[38;5;28;01mfrom\u001b[39;00m\u001b[38;5;250m \u001b[39m\u001b[38;5;21;01m.\u001b[39;00m\u001b[38;5;21;01mwith_notebook\u001b[39;00m\u001b[38;5;250m \u001b[39m\u001b[38;5;28;01mimport\u001b[39;00m _\n\u001b[0;32m    240\u001b[0m     \u001b[38;5;28;01melse\u001b[39;00m:\n\u001b[0;32m    241\u001b[0m         \u001b[38;5;28;01mfrom\u001b[39;00m\u001b[38;5;250m \u001b[39m\u001b[38;5;21;01m.\u001b[39;00m\u001b[38;5;21;01mno_notebook\u001b[39;00m\u001b[38;5;250m \u001b[39m\u001b[38;5;28;01mimport\u001b[39;00m _\n",
      "File \u001b[1;32mc:\\Users\\Audrey\\.conda\\envs\\CompModel2\\lib\\site-packages\\vpython\\with_notebook.py:153\u001b[0m\n\u001b[0;32m    151\u001b[0m baseObj\u001b[38;5;241m.\u001b[39mglow \u001b[38;5;241m=\u001b[39m GlowWidget(wsport\u001b[38;5;241m=\u001b[39m__SOCKET_PORT, wsuri\u001b[38;5;241m=\u001b[39m\u001b[38;5;124m'\u001b[39m\u001b[38;5;124m/ws\u001b[39m\u001b[38;5;124m'\u001b[39m)\n\u001b[0;32m    152\u001b[0m \u001b[38;5;28;01mwhile\u001b[39;00m (\u001b[38;5;129;01mnot\u001b[39;00m wsConnected):\n\u001b[1;32m--> 153\u001b[0m     \u001b[43mtime\u001b[49m\u001b[38;5;241;43m.\u001b[39;49m\u001b[43msleep\u001b[49m\u001b[43m(\u001b[49m\u001b[38;5;241;43m0.1\u001b[39;49m\u001b[43m)\u001b[49m          \u001b[38;5;66;03m# wait for websocket to connect\u001b[39;00m\n\u001b[0;32m    155\u001b[0m baseObj\u001b[38;5;241m.\u001b[39mtrigger()  \u001b[38;5;66;03m# start the trigger ping-pong process\u001b[39;00m\n\u001b[0;32m    158\u001b[0m \u001b[38;5;66;03m# Same justification as above for removing the ipykernel check.\u001b[39;00m\n\u001b[0;32m    159\u001b[0m \u001b[38;5;66;03m# There was also an IPython version check for >=4, which was\u001b[39;00m\n\u001b[0;32m    160\u001b[0m \u001b[38;5;66;03m# released in Nov 2015. Ok to stop supporting in 2.019 I think.\u001b[39;00m\n",
      "\u001b[1;31mKeyboardInterrupt\u001b[0m: "
     ]
    }
   ],
   "source": [
    "x = createCube2()"
   ]
  },
  {
   "cell_type": "code",
   "execution_count": null,
   "id": "54b32cac-f7ce-439f-802a-d4f4ffd092d1",
   "metadata": {
    "scrolled": true
   },
   "outputs": [],
   "source": [
    "x = createCube3()"
   ]
  },
  {
   "cell_type": "code",
   "execution_count": 8,
   "id": "7b1ed815-85e7-44e5-b5ca-cf8ef1372c2e",
   "metadata": {},
   "outputs": [],
   "source": [
    "def createCube4():\n",
    "    scene = canvas()\n",
    "\n",
    "    # Create atoms (spheres) and store them in a dictionary\n",
    "    atoms = {}\n",
    "    velocities = {}\n",
    "    springs = []\n",
    "\n",
    "    for x in range(N):\n",
    "        for y in range(N):\n",
    "            for z in range(N):\n",
    "                pos = vector(x * L, y * L, z * L)\n",
    "                atom = sphere(pos=pos, radius=0.2, color=color.cyan, make_trail=False)\n",
    "                atoms[(x, y, z)] = atom\n",
    "                velocities[(x, y, z)] = vector(np.random.uniform(-0.1, 0.1), np.random.uniform(-0.1, 0.1), np.random.uniform(-0.1, 0.1))  # Smaller initial velocity\n",
    "\n",
    "    # Function to get neighbors (Face-connected)\n",
    "    face_neighbors = [\n",
    "        (1, 0, 0), (-1, 0, 0), (0, 1, 0), (0, -1, 0), (0, 0, 1), (0, 0, -1)\n",
    "    ]\n",
    "\n",
    "    # Diagonal neighbors (only for outer atoms)\n",
    "    diagonal_neighbors = [\n",
    "        (1, 1, 0), (-1, -1, 0), (1, -1, 0), (-1, 1, 0),  # Edge-connected (XY)\n",
    "        (1, 0, 1), (-1, 0, -1), (1, 0, -1), (-1, 0, 1),  # Edge-connected (XZ)\n",
    "        (0, 1, 1), (0, -1, -1), (0, 1, -1), (0, -1, 1),  # Edge-connected (YZ)\n",
    "        (1, 1, 1), (-1, -1, -1), (1, 1, -1), (-1, -1, 1),  # 3D Space Diagonal\n",
    "        (1, -1, 1), (-1, 1, -1), (1, -1, -1), (-1, 1, 1)\n",
    "    ]\n",
    "\n",
    "    # Create springs (cylinders) connecting neighboring atoms\n",
    "    for (x, y, z), atom in atoms.items():\n",
    "        is_outer = (x == 0 or x == N - 1 or y == 0 or y == N - 1 or z == 0 or z == N - 1)\n",
    "\n",
    "        # Add face-connected springs (always)\n",
    "        for dx, dy, dz in face_neighbors:\n",
    "            neighbor_key = (x + dx, y + dy, z + dz)\n",
    "            if neighbor_key in atoms:\n",
    "                neighbor = atoms[neighbor_key]\n",
    "                spring = helix(pos=atom.pos, axis=neighbor.pos - atom.pos, radius=0.05, color=color.white)\n",
    "                springs.append((spring, (x, y, z), neighbor_key))\n",
    "\n",
    "        # Add diagonal springs only if this atom is on the outer surface\n",
    "        if is_outer:\n",
    "            for dx, dy, dz in diagonal_neighbors:\n",
    "                neighbor_key = (x + dx, y + dy, z + dz)\n",
    "                if neighbor_key in atoms:\n",
    "                    neighbor = atoms[neighbor_key]\n",
    "                    spring = cylinder(pos=atom.pos, axis=neighbor.pos - atom.pos, radius=0.05, color=color.red)  # Diagonal springs in red\n",
    "                    springs.append((spring, (x, y, z), neighbor_key))\n",
    "\n",
    "    damping_factor = 0.98  # Reduce velocities over time to prevent infinite oscillations\n",
    "\n",
    "    while True:\n",
    "        rate(100)\n",
    "        forces = {key: vector(0, 0, 0) for key in atoms}\n",
    "\n",
    "        # **Spring forces**\n",
    "        for (x, y, z), atom in atoms.items():\n",
    "            is_outer = (x == 0 or x == N - 1 or y == 0 or y == N - 1 or z == 0 or z == N - 1)\n",
    "\n",
    "            # Apply forces for face-connected springs (always)\n",
    "            for dx, dy, dz in face_neighbors:\n",
    "                neighbor_key = (x + dx, y + dy, z + dz)\n",
    "                if neighbor_key in atoms:\n",
    "                    neighbor = atoms[neighbor_key]\n",
    "                    displacement = neighbor.pos - atom.pos\n",
    "                    extension = mag(displacement) - L\n",
    "                    force = k * extension * norm(displacement)\n",
    "                    forces[(x, y, z)] += force\n",
    "                    forces[neighbor_key] -= force\n",
    "\n",
    "            # Apply forces for diagonal springs only if on the outer surface\n",
    "            if is_outer:\n",
    "                for dx, dy, dz in diagonal_neighbors:\n",
    "                    neighbor_key = (x + dx, y + dy, z + dz)\n",
    "                    if neighbor_key in atoms:\n",
    "                        neighbor = atoms[neighbor_key]\n",
    "                        displacement = neighbor.pos - atom.pos\n",
    "                        rest_length = mag(vector(dx, dy, dz) * L)\n",
    "                        extension = mag(displacement) - rest_length\n",
    "                        force = k * extension * norm(displacement)\n",
    "                        forces[(x, y, z)] += force\n",
    "                        forces[neighbor_key] -= force\n",
    "\n",
    "        # **Repulsive forces (stronger, nonlinear)**\n",
    "        keys = list(atoms.keys())\n",
    "        for i in range(len(keys)):\n",
    "            for j in range(i + 1, len(keys)):  # Avoid redundant calculations\n",
    "                key1, key2 = keys[i], keys[j]\n",
    "                atom1, atom2 = atoms[key1], atoms[key2]\n",
    "\n",
    "                dist_vec = atom2.pos - atom1.pos\n",
    "                distance = mag(dist_vec)\n",
    "                min_dist = 0.4  # Prevent overlap\n",
    "\n",
    "                if distance < min_dist:\n",
    "                    # Use a strong exponential repulsion force\n",
    "                    repulsion_strength = 500 * exp(-distance / 0.1)\n",
    "                    repulsion_force = repulsion_strength * norm(dist_vec)\n",
    "\n",
    "                    forces[key1] -= repulsion_force\n",
    "                    forces[key2] += repulsion_force\n",
    "\n",
    "                    # Adjust velocities to prevent overlap\n",
    "                    velocities[key1] -= norm(repulsion_force) * dt\n",
    "                    velocities[key2] += norm(repulsion_force) * dt\n",
    "\n",
    "        # **Update positions and velocities**\n",
    "        for key in atoms:\n",
    "            acceleration = forces[key] / mass\n",
    "            velocities[key] = velocities[key] * damping_factor + acceleration * dt  # Apply damping\n",
    "            atoms[key].pos += velocities[key] * dt\n",
    "\n",
    "        # **Update spring positions**\n",
    "        for spring, key1, key2 in springs:\n",
    "            spring.pos = atoms[key1].pos\n",
    "            spring.axis = atoms[key2].pos - atoms[key1].pos\n"
   ]
  },
  {
   "cell_type": "code",
   "execution_count": null,
   "id": "9b8b0102-d139-4477-8644-b99f11a31003",
   "metadata": {},
   "outputs": [
    {
     "data": {
      "text/html": [
       "<div id=\"glowscript\" class=\"glowscript\"></div>"
      ],
      "text/plain": [
       "<IPython.core.display.HTML object>"
      ]
     },
     "metadata": {},
     "output_type": "display_data"
    },
    {
     "data": {
      "application/javascript": "if (typeof Jupyter !== \"undefined\") { window.__context = { glowscript_container: $(\"#glowscript\").removeAttr(\"id\")};}else{ element.textContent = ' ';}",
      "text/plain": [
       "<IPython.core.display.Javascript object>"
      ]
     },
     "metadata": {},
     "output_type": "display_data"
    },
    {
     "data": {
      "application/javascript": "if (typeof Jupyter !== \"undefined\") {require.undef(\"nbextensions/vpython_libraries/glow.min\");}else{element.textContent = ' ';}",
      "text/plain": [
       "<IPython.core.display.Javascript object>"
      ]
     },
     "metadata": {},
     "output_type": "display_data"
    },
    {
     "data": {
      "application/javascript": "if (typeof Jupyter !== \"undefined\") {require.undef(\"nbextensions/vpython_libraries/glowcomm\");}else{element.textContent = ' ';}",
      "text/plain": [
       "<IPython.core.display.Javascript object>"
      ]
     },
     "metadata": {},
     "output_type": "display_data"
    },
    {
     "data": {
      "application/javascript": "if (typeof Jupyter !== \"undefined\") {require.undef(\"nbextensions/vpython_libraries/jquery-ui.custom.min\");}else{element.textContent = ' ';}",
      "text/plain": [
       "<IPython.core.display.Javascript object>"
      ]
     },
     "metadata": {},
     "output_type": "display_data"
    },
    {
     "data": {
      "application/javascript": "if (typeof Jupyter !== \"undefined\") {require([\"nbextensions/vpython_libraries/glow.min\"], function(){console.log(\"GLOW LOADED\");});}else{element.textContent = ' ';}",
      "text/plain": [
       "<IPython.core.display.Javascript object>"
      ]
     },
     "metadata": {},
     "output_type": "display_data"
    },
    {
     "data": {
      "application/javascript": "if (typeof Jupyter !== \"undefined\") {require([\"nbextensions/vpython_libraries/glowcomm\"], function(){console.log(\"GLOWCOMM LOADED\");});}else{element.textContent = ' ';}",
      "text/plain": [
       "<IPython.core.display.Javascript object>"
      ]
     },
     "metadata": {},
     "output_type": "display_data"
    },
    {
     "data": {
      "application/javascript": "if (typeof Jupyter !== \"undefined\") {require([\"nbextensions/vpython_libraries/jquery-ui.custom.min\"], function(){console.log(\"JQUERY LOADED\");});}else{element.textContent = ' ';}",
      "text/plain": [
       "<IPython.core.display.Javascript object>"
      ]
     },
     "metadata": {},
     "output_type": "display_data"
    }
   ],
   "source": [
    "x = createCube4()"
   ]
  },
  {
   "cell_type": "code",
   "execution_count": null,
   "id": "5467d377-9c8e-4033-b190-c950725e06f3",
   "metadata": {},
   "outputs": [],
   "source": []
  },
  {
   "cell_type": "code",
   "execution_count": null,
   "id": "d448c498-311e-490a-b99e-9b593be5d78a",
   "metadata": {},
   "outputs": [],
   "source": [
    "# Define parameters\n",
    "n = 3  # Size of the crystal (3x3x3)\n",
    "k = 10  # Spring constant\n",
    "mass = 1  # Mass of each sphere\n",
    "dt = 0.01  # Time step for simulation\n",
    "spring_length = 1.0  # Natural length of the springs\n",
    "\n",
    "# Create a 3x3x3 matrix of spheres\n",
    "spheres = np.empty((n, n, n), dtype=object)\n",
    "positions = np.zeros((n, n, n, 3))  # Array to store positions\n",
    "velocities = np.random.rand(n, n, n, 3) - 0.5  # Random initial velocities\n",
    "\n",
    "# Create spheres and place them in the 3x3x3 grid\n",
    "for i in range(n):\n",
    "    for j in range(n):\n",
    "        for k in range(n):\n",
    "            pos = np.array([i, j, k]) * spring_length\n",
    "            spheres[i, j, k] = sphere(pos=vector(*pos), radius=0.2, color=color.cyan)\n",
    "            positions[i, j, k] = pos"
   ]
  },
  {
   "cell_type": "code",
   "execution_count": null,
   "id": "ed12278f-bab9-4c3d-9c9e-e40e87c49153",
   "metadata": {},
   "outputs": [],
   "source": []
  },
  {
   "cell_type": "code",
   "execution_count": null,
   "id": "094da840-b890-4e7a-9ee2-1ab49c567369",
   "metadata": {},
   "outputs": [],
   "source": []
  },
  {
   "cell_type": "code",
   "execution_count": null,
   "id": "9c42d4e3-825f-45ed-ae4e-823b4548158c",
   "metadata": {},
   "outputs": [],
   "source": []
  }
 ],
 "metadata": {
  "kernelspec": {
   "display_name": "Python 3",
   "language": "python",
   "name": "python3"
  },
  "language_info": {
   "codemirror_mode": {
    "name": "ipython",
    "version": 3
   },
   "file_extension": ".py",
   "mimetype": "text/x-python",
   "name": "python",
   "nbconvert_exporter": "python",
   "pygments_lexer": "ipython3",
   "version": "3.10.16"
  }
 },
 "nbformat": 4,
 "nbformat_minor": 5
}
